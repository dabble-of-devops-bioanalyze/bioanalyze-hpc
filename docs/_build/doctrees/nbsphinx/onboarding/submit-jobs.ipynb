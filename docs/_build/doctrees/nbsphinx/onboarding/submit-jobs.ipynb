{
 "cells": [
  {
   "cell_type": "markdown",
   "id": "18bbba87-d3b8-4912-9457-d34d1561fbf6",
   "metadata": {},
   "source": [
    "## BioAnalyze HPC Helper Libraries\n",
    "\n",
    "BioAnalyze HPC comes with a set of libraries and defaults to help you get started quickly. One of these is modules, which is a way of seperating out different software environments. There are also several CLI components."
   ]
  },
  {
   "cell_type": "code",
   "execution_count": 1,
   "id": "0eeba3ca-c145-43d0-90fc-84b4525b33c5",
   "metadata": {
    "execution": {
     "iopub.execute_input": "2022-06-27T22:44:48.656937Z",
     "iopub.status.busy": "2022-06-27T22:44:48.656631Z",
     "iopub.status.idle": "2022-06-27T22:44:48.772729Z",
     "shell.execute_reply": "2022-06-27T22:44:48.772125Z"
    }
   },
   "outputs": [
    {
     "name": "stdout",
     "output_type": "stream",
     "text": [
      "\u001b[?2004l\r",
      "bash: module: command not found\n"
     ]
    },
    {
     "name": "stdout",
     "output_type": "stream",
     "text": [
      "\u001b[?2004h"
     ]
    },
    {
     "ename": "",
     "evalue": "1",
     "output_type": "error",
     "traceback": []
    }
   ],
   "source": [
    "module load pcluster-helpers"
   ]
  },
  {
   "cell_type": "code",
   "execution_count": 2,
   "id": "9cc1048d-6a68-4ccc-8238-09816fc5c0c2",
   "metadata": {
    "execution": {
     "iopub.execute_input": "2022-06-27T22:44:48.775682Z",
     "iopub.status.busy": "2022-06-27T22:44:48.775436Z",
     "iopub.status.idle": "2022-06-27T22:44:48.884341Z",
     "shell.execute_reply": "2022-06-27T22:44:48.883332Z"
    }
   },
   "outputs": [
    {
     "name": "stdout",
     "output_type": "stream",
     "text": [
      "\u001b[?2004l\r",
      "bash: pcluster-helper: command not found\n"
     ]
    },
    {
     "name": "stdout",
     "output_type": "stream",
     "text": [
      "\u001b[?2004h"
     ]
    },
    {
     "ename": "",
     "evalue": "1",
     "output_type": "error",
     "traceback": []
    }
   ],
   "source": [
    "pcluster-helper --help"
   ]
  },
  {
   "cell_type": "markdown",
   "id": "2942525c-1fea-445f-9be1-9f28d4c93a7c",
   "metadata": {},
   "source": [
    "### SLURM - SInfo Helper\n",
    "\n",
    "When you submit jobs to an HPC cluster it is important to know how to map what your job needs to what the cluster provides. \n",
    "\n",
    "**Your cluster may look different depending on your queue configuration setup.** \n",
    "\n",
    "Please make sure to submit the jobs from your own sinfo table and not the one shown here."
   ]
  },
  {
   "cell_type": "code",
   "execution_count": 3,
   "id": "7bbb7e23-312b-4485-9047-611cc3facfbb",
   "metadata": {
    "execution": {
     "iopub.execute_input": "2022-06-27T22:44:48.888057Z",
     "iopub.status.busy": "2022-06-27T22:44:48.887726Z",
     "iopub.status.idle": "2022-06-27T22:44:48.999827Z",
     "shell.execute_reply": "2022-06-27T22:44:48.998956Z"
    }
   },
   "outputs": [
    {
     "name": "stdout",
     "output_type": "stream",
     "text": [
      "\u001b[?2004l\r",
      "bash: pcluster-helper: command not found\n"
     ]
    },
    {
     "name": "stdout",
     "output_type": "stream",
     "text": [
      "\u001b[?2004h"
     ]
    },
    {
     "ename": "",
     "evalue": "1",
     "output_type": "error",
     "traceback": []
    }
   ],
   "source": [
    "pcluster-helper sinfo"
   ]
  },
  {
   "cell_type": "markdown",
   "id": "9e499f88-6e7d-4942-b1b3-0919c3e40c5c",
   "metadata": {},
   "source": [
    "### Submit a sample job\n",
    "\n",
    "Grab the text below and create a file called `my-job.sh`.\n",
    "\n",
    "```bash\n",
    "#!/bin/bash\n",
    "\n",
    "# my-job.sh\n",
    "\n",
    "#SBATCH --job-name=my-job-name        # Job name\n",
    "#SBATCH --partition=MY_PARTITION      # sbatch job parition from the table above\n",
    "#SBATCH -c=CPU                        # sbatch cpu from the above table\n",
    "#SBATCH --constraint                  # sbatch constraint from the table above\n",
    "#SBATCH --time=01:00:00               # Time limit hrs:min:sec\n",
    "#SBATCH --output=my_job_%j.log   # Standard output and error log\n",
    "\n",
    "pwd; hostname; date\n",
    "\n",
    "date\n",
    "\n",
    "sleep 10\n",
    "```\n",
    "\n",
    "Once you have your script make it executable and submit it.\n",
    "\n",
    "```\n",
    "chmod 777 ./my-job.sh\n",
    "sbatch ./my-job.sh\n",
    "```"
   ]
  },
  {
   "cell_type": "markdown",
   "id": "d36c38f9-e8fe-4371-9fd3-78690c4f87da",
   "metadata": {},
   "source": [
    "### Troubleshooting\n",
    "\n",
    "Submitting jobs to SLURM on AWS is slightly different than submitting jobs to an in house data center. You do not specify memory, but instead specify the instance type and a constraint on the EC2 instance type. "
   ]
  },
  {
   "cell_type": "markdown",
   "id": "5c92c961-2c31-4e61-9676-a9f2dc907a4e",
   "metadata": {},
   "source": [
    "## Additional Information\n",
    "\n",
    "SLURM provides much more information than given by the pcluster-helper utility.\n",
    "\n",
    "**Cluster Info**\n",
    "\n",
    "```bash\n",
    "sinfo\n",
    "```\n",
    "\n",
    "**Job Info**\n",
    "\n",
    "```bash\n",
    "squeue\n",
    "```\n",
    "\n",
    "**Job Info for a Single User**\n",
    "\n",
    "```bash\n",
    "squeue -u $USER\n",
    "```\n",
    "\n",
    "**Show detailed job information**\n",
    "\n",
    "```bash\n",
    "scontrol show job <job_id>\n",
    "```"
   ]
  },
  {
   "cell_type": "markdown",
   "id": "13ae24b3-74a7-4c56-856b-6d5fbb4bd131",
   "metadata": {},
   "source": [
    "*These are examples from this particular cluster. Your output will be slightly different depending on your cluster configuration*"
   ]
  },
  {
   "cell_type": "code",
   "execution_count": 4,
   "id": "3695d533-f77f-42d9-82bd-ae247538b1b0",
   "metadata": {
    "execution": {
     "iopub.execute_input": "2022-06-27T22:44:49.006738Z",
     "iopub.status.busy": "2022-06-27T22:44:49.006058Z",
     "iopub.status.idle": "2022-06-27T22:44:49.112832Z",
     "shell.execute_reply": "2022-06-27T22:44:49.112080Z"
    }
   },
   "outputs": [
    {
     "name": "stdout",
     "output_type": "stream",
     "text": [
      "\u001b[?2004l\r",
      "bash: squeue: command not found\n"
     ]
    },
    {
     "name": "stdout",
     "output_type": "stream",
     "text": [
      "\u001b[?2004h"
     ]
    },
    {
     "ename": "",
     "evalue": "1",
     "output_type": "error",
     "traceback": []
    }
   ],
   "source": [
    "squeue -u $USER"
   ]
  },
  {
   "cell_type": "code",
   "execution_count": 5,
   "id": "888a9287-c911-448d-a8e8-fb1472c2030c",
   "metadata": {
    "execution": {
     "iopub.execute_input": "2022-06-27T22:44:49.116821Z",
     "iopub.status.busy": "2022-06-27T22:44:49.116475Z",
     "iopub.status.idle": "2022-06-27T22:44:49.227925Z",
     "shell.execute_reply": "2022-06-27T22:44:49.226940Z"
    }
   },
   "outputs": [
    {
     "name": "stdout",
     "output_type": "stream",
     "text": [
      "\u001b[?2004l\r",
      "\u001b[?2004h"
     ]
    },
    {
     "ename": "",
     "evalue": "1",
     "output_type": "error",
     "traceback": []
    }
   ],
   "source": [
    "# scontrol show job some_job_id"
   ]
  },
  {
   "cell_type": "code",
   "execution_count": 6,
   "id": "d8051163-c7bc-4739-904e-2f5973a31f8e",
   "metadata": {
    "execution": {
     "iopub.execute_input": "2022-06-27T22:44:49.232310Z",
     "iopub.status.busy": "2022-06-27T22:44:49.231969Z",
     "iopub.status.idle": "2022-06-27T22:44:49.340334Z",
     "shell.execute_reply": "2022-06-27T22:44:49.339190Z"
    }
   },
   "outputs": [
    {
     "name": "stdout",
     "output_type": "stream",
     "text": [
      "\u001b[?2004l\r",
      "bash: sinfo: command not found\n"
     ]
    },
    {
     "name": "stdout",
     "output_type": "stream",
     "text": [
      "\u001b[?2004h"
     ]
    },
    {
     "ename": "",
     "evalue": "1",
     "output_type": "error",
     "traceback": []
    }
   ],
   "source": [
    "sinfo"
   ]
  },
  {
   "cell_type": "code",
   "execution_count": null,
   "id": "26ee00fd-46bc-46bc-94ba-37eefc3f0025",
   "metadata": {},
   "outputs": [],
   "source": []
  },
  {
   "cell_type": "code",
   "execution_count": null,
   "id": "9f0a2a11-2df4-47f8-a39a-8e5144a8b785",
   "metadata": {},
   "outputs": [],
   "source": []
  }
 ],
 "metadata": {
  "kernelspec": {
   "display_name": "Bash",
   "language": "bash",
   "name": "bash"
  },
  "language_info": {
   "codemirror_mode": "shell",
   "file_extension": ".sh",
   "mimetype": "text/x-sh",
   "name": "bash"
  }
 },
 "nbformat": 4,
 "nbformat_minor": 5
}
