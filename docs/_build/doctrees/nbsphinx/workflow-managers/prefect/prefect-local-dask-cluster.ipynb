{
 "cells": [
  {
   "cell_type": "markdown",
   "id": "8de55989-b274-450b-b467-c848ebe47bee",
   "metadata": {},
   "source": [
    "## Prefect Local Dask Cluster - Example"
   ]
  },
  {
   "cell_type": "code",
   "execution_count": 1,
   "id": "0b9e9f40-ac32-4a46-92cf-63b562bd1777",
   "metadata": {
    "execution": {
     "iopub.execute_input": "2022-06-27T22:45:04.219181Z",
     "iopub.status.busy": "2022-06-27T22:45:04.218811Z",
     "iopub.status.idle": "2022-06-27T22:45:24.997623Z",
     "shell.execute_reply": "2022-06-27T22:45:24.996794Z"
    }
   },
   "outputs": [],
   "source": [
    "import dask.dataframe as dd\n",
    "import pandas as pd\n",
    "import tempfile\n",
    "from sklearn.datasets import load_iris\n",
    "import seaborn as sns\n",
    "\n",
    "import dask\n",
    "from dask.distributed import Client\n",
    "from dask.distributed import get_client\n",
    "from prefect.executors import DaskExecutor\n",
    "from prefect import Flow, task\n",
    "\n",
    "from dask.diagnostics import ProgressBar\n",
    "import dask.array as da\n",
    "import os\n",
    "\n",
    "import skimage\n",
    "from skimage import data, io, filters\n",
    "import glob\n",
    "import shutil\n",
    "import sys\n",
    "from devtools import debug"
   ]
  },
  {
   "cell_type": "markdown",
   "id": "04910a31-1950-4715-b132-d13d225d34a5",
   "metadata": {},
   "source": [
    "### Make Graphviz available\n",
    "\n",
    "Get the path of your current environment"
   ]
  },
  {
   "cell_type": "code",
   "execution_count": 2,
   "id": "14dacc8e-3f8a-4588-aded-e5f6e244bf69",
   "metadata": {
    "execution": {
     "iopub.execute_input": "2022-06-27T22:45:25.001632Z",
     "iopub.status.busy": "2022-06-27T22:45:25.001161Z",
     "iopub.status.idle": "2022-06-27T22:45:25.004875Z",
     "shell.execute_reply": "2022-06-27T22:45:25.004314Z"
    }
   },
   "outputs": [],
   "source": [
    "os.environ['PATH'] = f\"/home/user2135/.conda/envs/datascience/bin/:{os.environ['PATH']}\""
   ]
  },
  {
   "cell_type": "code",
   "execution_count": 3,
   "id": "bc2cd7f6-a95c-4509-859e-acf9d1c56929",
   "metadata": {
    "execution": {
     "iopub.execute_input": "2022-06-27T22:45:25.007932Z",
     "iopub.status.busy": "2022-06-27T22:45:25.007661Z",
     "iopub.status.idle": "2022-06-27T22:45:25.048789Z",
     "shell.execute_reply": "2022-06-27T22:45:25.048134Z"
    }
   },
   "outputs": [
    {
     "data": {
      "text/plain": [
       "'/Users/jillian/opt/miniconda3/envs/datascience/bin/dot'"
      ]
     },
     "execution_count": 3,
     "metadata": {},
     "output_type": "execute_result"
    }
   ],
   "source": [
    "shutil.which('dot')"
   ]
  },
  {
   "cell_type": "code",
   "execution_count": 4,
   "id": "f7856156-2635-4a1c-8524-c6ff67409393",
   "metadata": {
    "execution": {
     "iopub.execute_input": "2022-06-27T22:45:25.051751Z",
     "iopub.status.busy": "2022-06-27T22:45:25.051462Z",
     "iopub.status.idle": "2022-06-27T22:45:25.055015Z",
     "shell.execute_reply": "2022-06-27T22:45:25.054254Z"
    }
   },
   "outputs": [],
   "source": [
    "pbar = ProgressBar()                \n",
    "pbar.register() # global registration"
   ]
  },
  {
   "cell_type": "code",
   "execution_count": null,
   "id": "d3270bc1-4c76-4914-a68f-5832f8b0cf26",
   "metadata": {},
   "outputs": [],
   "source": []
  },
  {
   "cell_type": "code",
   "execution_count": 5,
   "id": "23bb9ed7-f53e-4494-8021-d79e7e3f406b",
   "metadata": {
    "execution": {
     "iopub.execute_input": "2022-06-27T22:45:25.058501Z",
     "iopub.status.busy": "2022-06-27T22:45:25.058192Z",
     "iopub.status.idle": "2022-06-27T22:45:27.754656Z",
     "shell.execute_reply": "2022-06-27T22:45:27.753297Z"
    }
   },
   "outputs": [
    {
     "data": {
      "text/html": [
       "<div>\n",
       "    <div style=\"width: 24px; height: 24px; background-color: #e1e1e1; border: 3px solid #9D9D9D; border-radius: 5px; position: absolute;\"> </div>\n",
       "    <div style=\"margin-left: 48px;\">\n",
       "        <h3 style=\"margin-bottom: 0px;\">Client</h3>\n",
       "        <p style=\"color: #9D9D9D; margin-bottom: 0px;\">Client-d580c468-f66a-11ec-a4be-acde48001122</p>\n",
       "        <table style=\"width: 100%; text-align: left;\">\n",
       "\n",
       "        <tr>\n",
       "        \n",
       "            <td style=\"text-align: left;\"><strong>Connection method:</strong> Cluster object</td>\n",
       "            <td style=\"text-align: left;\"><strong>Cluster type:</strong> distributed.LocalCluster</td>\n",
       "        \n",
       "        </tr>\n",
       "\n",
       "        \n",
       "            <tr>\n",
       "                <td style=\"text-align: left;\">\n",
       "                    <strong>Dashboard: </strong> <a href=\"http://127.0.0.1:8787/status\" target=\"_blank\">http://127.0.0.1:8787/status</a>\n",
       "                </td>\n",
       "                <td style=\"text-align: left;\"></td>\n",
       "            </tr>\n",
       "        \n",
       "\n",
       "        </table>\n",
       "\n",
       "        \n",
       "            <details>\n",
       "            <summary style=\"margin-bottom: 20px;\"><h3 style=\"display: inline;\">Cluster Info</h3></summary>\n",
       "            <div class=\"jp-RenderedHTMLCommon jp-RenderedHTML jp-mod-trusted jp-OutputArea-output\">\n",
       "    <div style=\"width: 24px; height: 24px; background-color: #e1e1e1; border: 3px solid #9D9D9D; border-radius: 5px; position: absolute;\">\n",
       "    </div>\n",
       "    <div style=\"margin-left: 48px;\">\n",
       "        <h3 style=\"margin-bottom: 0px; margin-top: 0px;\">LocalCluster</h3>\n",
       "        <p style=\"color: #9D9D9D; margin-bottom: 0px;\">6ad8b289</p>\n",
       "        <table style=\"width: 100%; text-align: left;\">\n",
       "            <tr>\n",
       "                <td style=\"text-align: left;\">\n",
       "                    <strong>Dashboard:</strong> <a href=\"http://127.0.0.1:8787/status\" target=\"_blank\">http://127.0.0.1:8787/status</a>\n",
       "                </td>\n",
       "                <td style=\"text-align: left;\">\n",
       "                    <strong>Workers:</strong> 4\n",
       "                </td>\n",
       "            </tr>\n",
       "            <tr>\n",
       "                <td style=\"text-align: left;\">\n",
       "                    <strong>Total threads:</strong> 16\n",
       "                </td>\n",
       "                <td style=\"text-align: left;\">\n",
       "                    <strong>Total memory:</strong> 64.00 GiB\n",
       "                </td>\n",
       "            </tr>\n",
       "            \n",
       "            <tr>\n",
       "    <td style=\"text-align: left;\"><strong>Status:</strong> running</td>\n",
       "    <td style=\"text-align: left;\"><strong>Using processes:</strong> True</td>\n",
       "</tr>\n",
       "\n",
       "            \n",
       "        </table>\n",
       "\n",
       "        <details>\n",
       "            <summary style=\"margin-bottom: 20px;\">\n",
       "                <h3 style=\"display: inline;\">Scheduler Info</h3>\n",
       "            </summary>\n",
       "\n",
       "            <div style=\"\">\n",
       "    <div>\n",
       "        <div style=\"width: 24px; height: 24px; background-color: #FFF7E5; border: 3px solid #FF6132; border-radius: 5px; position: absolute;\"> </div>\n",
       "        <div style=\"margin-left: 48px;\">\n",
       "            <h3 style=\"margin-bottom: 0px;\">Scheduler</h3>\n",
       "            <p style=\"color: #9D9D9D; margin-bottom: 0px;\">Scheduler-4953b4e5-622b-4ad3-912f-dce86cf12ffd</p>\n",
       "            <table style=\"width: 100%; text-align: left;\">\n",
       "                <tr>\n",
       "                    <td style=\"text-align: left;\">\n",
       "                        <strong>Comm:</strong> tcp://127.0.0.1:62835\n",
       "                    </td>\n",
       "                    <td style=\"text-align: left;\">\n",
       "                        <strong>Workers:</strong> 4\n",
       "                    </td>\n",
       "                </tr>\n",
       "                <tr>\n",
       "                    <td style=\"text-align: left;\">\n",
       "                        <strong>Dashboard:</strong> <a href=\"http://127.0.0.1:8787/status\" target=\"_blank\">http://127.0.0.1:8787/status</a>\n",
       "                    </td>\n",
       "                    <td style=\"text-align: left;\">\n",
       "                        <strong>Total threads:</strong> 16\n",
       "                    </td>\n",
       "                </tr>\n",
       "                <tr>\n",
       "                    <td style=\"text-align: left;\">\n",
       "                        <strong>Started:</strong> Just now\n",
       "                    </td>\n",
       "                    <td style=\"text-align: left;\">\n",
       "                        <strong>Total memory:</strong> 64.00 GiB\n",
       "                    </td>\n",
       "                </tr>\n",
       "            </table>\n",
       "        </div>\n",
       "    </div>\n",
       "\n",
       "    <details style=\"margin-left: 48px;\">\n",
       "        <summary style=\"margin-bottom: 20px;\">\n",
       "            <h3 style=\"display: inline;\">Workers</h3>\n",
       "        </summary>\n",
       "\n",
       "        \n",
       "        <div style=\"margin-bottom: 20px;\">\n",
       "            <div style=\"width: 24px; height: 24px; background-color: #DBF5FF; border: 3px solid #4CC9FF; border-radius: 5px; position: absolute;\"> </div>\n",
       "            <div style=\"margin-left: 48px;\">\n",
       "            <details>\n",
       "                <summary>\n",
       "                    <h4 style=\"margin-bottom: 0px; display: inline;\">Worker: 0</h4>\n",
       "                </summary>\n",
       "                <table style=\"width: 100%; text-align: left;\">\n",
       "                    <tr>\n",
       "                        <td style=\"text-align: left;\">\n",
       "                            <strong>Comm: </strong> tcp://127.0.0.1:62851\n",
       "                        </td>\n",
       "                        <td style=\"text-align: left;\">\n",
       "                            <strong>Total threads: </strong> 4\n",
       "                        </td>\n",
       "                    </tr>\n",
       "                    <tr>\n",
       "                        <td style=\"text-align: left;\">\n",
       "                            <strong>Dashboard: </strong> <a href=\"http://127.0.0.1:62855/status\" target=\"_blank\">http://127.0.0.1:62855/status</a>\n",
       "                        </td>\n",
       "                        <td style=\"text-align: left;\">\n",
       "                            <strong>Memory: </strong> 16.00 GiB\n",
       "                        </td>\n",
       "                    </tr>\n",
       "                    <tr>\n",
       "                        <td style=\"text-align: left;\">\n",
       "                            <strong>Nanny: </strong> tcp://127.0.0.1:62838\n",
       "                        </td>\n",
       "                        <td style=\"text-align: left;\"></td>\n",
       "                    </tr>\n",
       "                    <tr>\n",
       "                        <td colspan=\"2\" style=\"text-align: left;\">\n",
       "                            <strong>Local directory: </strong> /Users/jillian/Dropbox/projects/personal/DODO/consulting/DODO/biohub/bioanalyze/lab-docs/bioinformatics-hpc-aws-lab/docs/workflow-managers/prefect/dask-worker-space/worker-olhk0koe\n",
       "                        </td>\n",
       "                    </tr>\n",
       "\n",
       "                    \n",
       "\n",
       "                    \n",
       "\n",
       "                </table>\n",
       "            </details>\n",
       "            </div>\n",
       "        </div>\n",
       "        \n",
       "        <div style=\"margin-bottom: 20px;\">\n",
       "            <div style=\"width: 24px; height: 24px; background-color: #DBF5FF; border: 3px solid #4CC9FF; border-radius: 5px; position: absolute;\"> </div>\n",
       "            <div style=\"margin-left: 48px;\">\n",
       "            <details>\n",
       "                <summary>\n",
       "                    <h4 style=\"margin-bottom: 0px; display: inline;\">Worker: 1</h4>\n",
       "                </summary>\n",
       "                <table style=\"width: 100%; text-align: left;\">\n",
       "                    <tr>\n",
       "                        <td style=\"text-align: left;\">\n",
       "                            <strong>Comm: </strong> tcp://127.0.0.1:62853\n",
       "                        </td>\n",
       "                        <td style=\"text-align: left;\">\n",
       "                            <strong>Total threads: </strong> 4\n",
       "                        </td>\n",
       "                    </tr>\n",
       "                    <tr>\n",
       "                        <td style=\"text-align: left;\">\n",
       "                            <strong>Dashboard: </strong> <a href=\"http://127.0.0.1:62857/status\" target=\"_blank\">http://127.0.0.1:62857/status</a>\n",
       "                        </td>\n",
       "                        <td style=\"text-align: left;\">\n",
       "                            <strong>Memory: </strong> 16.00 GiB\n",
       "                        </td>\n",
       "                    </tr>\n",
       "                    <tr>\n",
       "                        <td style=\"text-align: left;\">\n",
       "                            <strong>Nanny: </strong> tcp://127.0.0.1:62839\n",
       "                        </td>\n",
       "                        <td style=\"text-align: left;\"></td>\n",
       "                    </tr>\n",
       "                    <tr>\n",
       "                        <td colspan=\"2\" style=\"text-align: left;\">\n",
       "                            <strong>Local directory: </strong> /Users/jillian/Dropbox/projects/personal/DODO/consulting/DODO/biohub/bioanalyze/lab-docs/bioinformatics-hpc-aws-lab/docs/workflow-managers/prefect/dask-worker-space/worker-ugw1e1_6\n",
       "                        </td>\n",
       "                    </tr>\n",
       "\n",
       "                    \n",
       "\n",
       "                    \n",
       "\n",
       "                </table>\n",
       "            </details>\n",
       "            </div>\n",
       "        </div>\n",
       "        \n",
       "        <div style=\"margin-bottom: 20px;\">\n",
       "            <div style=\"width: 24px; height: 24px; background-color: #DBF5FF; border: 3px solid #4CC9FF; border-radius: 5px; position: absolute;\"> </div>\n",
       "            <div style=\"margin-left: 48px;\">\n",
       "            <details>\n",
       "                <summary>\n",
       "                    <h4 style=\"margin-bottom: 0px; display: inline;\">Worker: 2</h4>\n",
       "                </summary>\n",
       "                <table style=\"width: 100%; text-align: left;\">\n",
       "                    <tr>\n",
       "                        <td style=\"text-align: left;\">\n",
       "                            <strong>Comm: </strong> tcp://127.0.0.1:62850\n",
       "                        </td>\n",
       "                        <td style=\"text-align: left;\">\n",
       "                            <strong>Total threads: </strong> 4\n",
       "                        </td>\n",
       "                    </tr>\n",
       "                    <tr>\n",
       "                        <td style=\"text-align: left;\">\n",
       "                            <strong>Dashboard: </strong> <a href=\"http://127.0.0.1:62854/status\" target=\"_blank\">http://127.0.0.1:62854/status</a>\n",
       "                        </td>\n",
       "                        <td style=\"text-align: left;\">\n",
       "                            <strong>Memory: </strong> 16.00 GiB\n",
       "                        </td>\n",
       "                    </tr>\n",
       "                    <tr>\n",
       "                        <td style=\"text-align: left;\">\n",
       "                            <strong>Nanny: </strong> tcp://127.0.0.1:62841\n",
       "                        </td>\n",
       "                        <td style=\"text-align: left;\"></td>\n",
       "                    </tr>\n",
       "                    <tr>\n",
       "                        <td colspan=\"2\" style=\"text-align: left;\">\n",
       "                            <strong>Local directory: </strong> /Users/jillian/Dropbox/projects/personal/DODO/consulting/DODO/biohub/bioanalyze/lab-docs/bioinformatics-hpc-aws-lab/docs/workflow-managers/prefect/dask-worker-space/worker-83o58f7g\n",
       "                        </td>\n",
       "                    </tr>\n",
       "\n",
       "                    \n",
       "\n",
       "                    \n",
       "\n",
       "                </table>\n",
       "            </details>\n",
       "            </div>\n",
       "        </div>\n",
       "        \n",
       "        <div style=\"margin-bottom: 20px;\">\n",
       "            <div style=\"width: 24px; height: 24px; background-color: #DBF5FF; border: 3px solid #4CC9FF; border-radius: 5px; position: absolute;\"> </div>\n",
       "            <div style=\"margin-left: 48px;\">\n",
       "            <details>\n",
       "                <summary>\n",
       "                    <h4 style=\"margin-bottom: 0px; display: inline;\">Worker: 3</h4>\n",
       "                </summary>\n",
       "                <table style=\"width: 100%; text-align: left;\">\n",
       "                    <tr>\n",
       "                        <td style=\"text-align: left;\">\n",
       "                            <strong>Comm: </strong> tcp://127.0.0.1:62852\n",
       "                        </td>\n",
       "                        <td style=\"text-align: left;\">\n",
       "                            <strong>Total threads: </strong> 4\n",
       "                        </td>\n",
       "                    </tr>\n",
       "                    <tr>\n",
       "                        <td style=\"text-align: left;\">\n",
       "                            <strong>Dashboard: </strong> <a href=\"http://127.0.0.1:62856/status\" target=\"_blank\">http://127.0.0.1:62856/status</a>\n",
       "                        </td>\n",
       "                        <td style=\"text-align: left;\">\n",
       "                            <strong>Memory: </strong> 16.00 GiB\n",
       "                        </td>\n",
       "                    </tr>\n",
       "                    <tr>\n",
       "                        <td style=\"text-align: left;\">\n",
       "                            <strong>Nanny: </strong> tcp://127.0.0.1:62840\n",
       "                        </td>\n",
       "                        <td style=\"text-align: left;\"></td>\n",
       "                    </tr>\n",
       "                    <tr>\n",
       "                        <td colspan=\"2\" style=\"text-align: left;\">\n",
       "                            <strong>Local directory: </strong> /Users/jillian/Dropbox/projects/personal/DODO/consulting/DODO/biohub/bioanalyze/lab-docs/bioinformatics-hpc-aws-lab/docs/workflow-managers/prefect/dask-worker-space/worker-2xyw6lqh\n",
       "                        </td>\n",
       "                    </tr>\n",
       "\n",
       "                    \n",
       "\n",
       "                    \n",
       "\n",
       "                </table>\n",
       "            </details>\n",
       "            </div>\n",
       "        </div>\n",
       "        \n",
       "\n",
       "    </details>\n",
       "</div>\n",
       "\n",
       "        </details>\n",
       "    </div>\n",
       "</div>\n",
       "            </details>\n",
       "        \n",
       "\n",
       "    </div>\n",
       "</div>"
      ],
      "text/plain": [
       "<Client: 'tcp://127.0.0.1:62835' processes=4 threads=16, memory=64.00 GiB>"
      ]
     },
     "execution_count": 5,
     "metadata": {},
     "output_type": "execute_result"
    }
   ],
   "source": [
    "from dask.distributed import Client\n",
    "client = Client()\n",
    "client"
   ]
  },
  {
   "cell_type": "code",
   "execution_count": 6,
   "id": "15ff36e6-574c-4261-b41a-469610542e78",
   "metadata": {
    "execution": {
     "iopub.execute_input": "2022-06-27T22:45:27.761261Z",
     "iopub.status.busy": "2022-06-27T22:45:27.760716Z",
     "iopub.status.idle": "2022-06-27T22:45:27.769414Z",
     "shell.execute_reply": "2022-06-27T22:45:27.766842Z"
    }
   },
   "outputs": [
    {
     "data": {
      "text/plain": [
       "'http://127.0.0.1:8787/status'"
      ]
     },
     "execution_count": 6,
     "metadata": {},
     "output_type": "execute_result"
    }
   ],
   "source": [
    "client.dashboard_link"
   ]
  },
  {
   "cell_type": "markdown",
   "id": "9c3189fb-c442-47e3-b15e-de08a019a3df",
   "metadata": {},
   "source": [
    "### Access the Local Dask Cluster Dashboard\n",
    "\n",
    "From the Client widget grab the dashboard port. You'll need to proxy it as:\n",
    "\n",
    "**your-jhub-address/user/{YOUR_USER}/proxy/{DASHBOARD_PORT}/status**"
   ]
  },
  {
   "cell_type": "code",
   "execution_count": null,
   "id": "c60c50fb-17c4-4c9d-90ec-a71ec590c513",
   "metadata": {},
   "outputs": [],
   "source": []
  },
  {
   "cell_type": "code",
   "execution_count": 7,
   "id": "26f580c9-7c52-4e2e-a157-fe7f978cac28",
   "metadata": {
    "execution": {
     "iopub.execute_input": "2022-06-27T22:45:27.775378Z",
     "iopub.status.busy": "2022-06-27T22:45:27.774814Z",
     "iopub.status.idle": "2022-06-27T22:45:27.782559Z",
     "shell.execute_reply": "2022-06-27T22:45:27.781476Z"
    }
   },
   "outputs": [
    {
     "data": {
      "text/plain": [
       "<Executor: DaskExecutor>"
      ]
     },
     "execution_count": 7,
     "metadata": {},
     "output_type": "execute_result"
    }
   ],
   "source": [
    "executor = DaskExecutor(address=client.scheduler.address)\n",
    "executor"
   ]
  },
  {
   "cell_type": "code",
   "execution_count": 8,
   "id": "87151e20-278d-4347-b573-5f5201f2dde3",
   "metadata": {
    "execution": {
     "iopub.execute_input": "2022-06-27T22:45:27.786455Z",
     "iopub.status.busy": "2022-06-27T22:45:27.786063Z",
     "iopub.status.idle": "2022-06-27T22:45:28.587521Z",
     "shell.execute_reply": "2022-06-27T22:45:28.586758Z"
    }
   },
   "outputs": [
    {
     "data": {
      "text/html": [
       "<div>\n",
       "<style scoped>\n",
       "    .dataframe tbody tr th:only-of-type {\n",
       "        vertical-align: middle;\n",
       "    }\n",
       "\n",
       "    .dataframe tbody tr th {\n",
       "        vertical-align: top;\n",
       "    }\n",
       "\n",
       "    .dataframe thead th {\n",
       "        text-align: right;\n",
       "    }\n",
       "</style>\n",
       "<table border=\"1\" class=\"dataframe\">\n",
       "  <thead>\n",
       "    <tr style=\"text-align: right;\">\n",
       "      <th></th>\n",
       "      <th>sepal_length</th>\n",
       "      <th>sepal_width</th>\n",
       "      <th>petal_length</th>\n",
       "      <th>petal_width</th>\n",
       "      <th>species</th>\n",
       "    </tr>\n",
       "  </thead>\n",
       "  <tbody>\n",
       "    <tr>\n",
       "      <th>0</th>\n",
       "      <td>5.1</td>\n",
       "      <td>3.5</td>\n",
       "      <td>1.4</td>\n",
       "      <td>0.2</td>\n",
       "      <td>setosa</td>\n",
       "    </tr>\n",
       "    <tr>\n",
       "      <th>1</th>\n",
       "      <td>4.9</td>\n",
       "      <td>3.0</td>\n",
       "      <td>1.4</td>\n",
       "      <td>0.2</td>\n",
       "      <td>setosa</td>\n",
       "    </tr>\n",
       "    <tr>\n",
       "      <th>2</th>\n",
       "      <td>4.7</td>\n",
       "      <td>3.2</td>\n",
       "      <td>1.3</td>\n",
       "      <td>0.2</td>\n",
       "      <td>setosa</td>\n",
       "    </tr>\n",
       "    <tr>\n",
       "      <th>3</th>\n",
       "      <td>4.6</td>\n",
       "      <td>3.1</td>\n",
       "      <td>1.5</td>\n",
       "      <td>0.2</td>\n",
       "      <td>setosa</td>\n",
       "    </tr>\n",
       "    <tr>\n",
       "      <th>4</th>\n",
       "      <td>5.0</td>\n",
       "      <td>3.6</td>\n",
       "      <td>1.4</td>\n",
       "      <td>0.2</td>\n",
       "      <td>setosa</td>\n",
       "    </tr>\n",
       "  </tbody>\n",
       "</table>\n",
       "</div>"
      ],
      "text/plain": [
       "   sepal_length  sepal_width  petal_length  petal_width species\n",
       "0           5.1          3.5           1.4          0.2  setosa\n",
       "1           4.9          3.0           1.4          0.2  setosa\n",
       "2           4.7          3.2           1.3          0.2  setosa\n",
       "3           4.6          3.1           1.5          0.2  setosa\n",
       "4           5.0          3.6           1.4          0.2  setosa"
      ]
     },
     "execution_count": 8,
     "metadata": {},
     "output_type": "execute_result"
    }
   ],
   "source": [
    "# Loading built-in Datasets:\n",
    "iris = sns.load_dataset(\"iris\")\n",
    "iris.head()"
   ]
  },
  {
   "cell_type": "code",
   "execution_count": 9,
   "id": "5f6907f9-5149-4502-ab69-69eb530ca0b8",
   "metadata": {
    "execution": {
     "iopub.execute_input": "2022-06-27T22:45:28.592218Z",
     "iopub.status.busy": "2022-06-27T22:45:28.591838Z",
     "iopub.status.idle": "2022-06-27T22:45:28.606749Z",
     "shell.execute_reply": "2022-06-27T22:45:28.606083Z"
    }
   },
   "outputs": [
    {
     "data": {
      "text/html": [
       "<div><strong>Dask DataFrame Structure:</strong></div>\n",
       "<div>\n",
       "<style scoped>\n",
       "    .dataframe tbody tr th:only-of-type {\n",
       "        vertical-align: middle;\n",
       "    }\n",
       "\n",
       "    .dataframe tbody tr th {\n",
       "        vertical-align: top;\n",
       "    }\n",
       "\n",
       "    .dataframe thead th {\n",
       "        text-align: right;\n",
       "    }\n",
       "</style>\n",
       "<table border=\"1\" class=\"dataframe\">\n",
       "  <thead>\n",
       "    <tr style=\"text-align: right;\">\n",
       "      <th></th>\n",
       "      <th>sepal_length</th>\n",
       "      <th>sepal_width</th>\n",
       "      <th>petal_length</th>\n",
       "      <th>petal_width</th>\n",
       "      <th>species</th>\n",
       "    </tr>\n",
       "    <tr>\n",
       "      <th>npartitions=1</th>\n",
       "      <th></th>\n",
       "      <th></th>\n",
       "      <th></th>\n",
       "      <th></th>\n",
       "      <th></th>\n",
       "    </tr>\n",
       "  </thead>\n",
       "  <tbody>\n",
       "    <tr>\n",
       "      <th>0</th>\n",
       "      <td>float64</td>\n",
       "      <td>float64</td>\n",
       "      <td>float64</td>\n",
       "      <td>float64</td>\n",
       "      <td>object</td>\n",
       "    </tr>\n",
       "    <tr>\n",
       "      <th>149</th>\n",
       "      <td>...</td>\n",
       "      <td>...</td>\n",
       "      <td>...</td>\n",
       "      <td>...</td>\n",
       "      <td>...</td>\n",
       "    </tr>\n",
       "  </tbody>\n",
       "</table>\n",
       "</div>\n",
       "<div>Dask Name: from_pandas, 1 tasks</div>"
      ],
      "text/plain": [
       "Dask DataFrame Structure:\n",
       "              sepal_length sepal_width petal_length petal_width species\n",
       "npartitions=1                                                          \n",
       "0                  float64     float64      float64     float64  object\n",
       "149                    ...         ...          ...         ...     ...\n",
       "Dask Name: from_pandas, 1 tasks"
      ]
     },
     "execution_count": 9,
     "metadata": {},
     "output_type": "execute_result"
    }
   ],
   "source": [
    "iris_dd = dd.from_pandas(iris, npartitions=1)\n",
    "iris_dd"
   ]
  },
  {
   "cell_type": "code",
   "execution_count": 10,
   "id": "882947e1-e47a-40d4-94bb-5dcf43df0d77",
   "metadata": {
    "execution": {
     "iopub.execute_input": "2022-06-27T22:45:28.610571Z",
     "iopub.status.busy": "2022-06-27T22:45:28.610088Z",
     "iopub.status.idle": "2022-06-27T22:45:28.613830Z",
     "shell.execute_reply": "2022-06-27T22:45:28.613098Z"
    }
   },
   "outputs": [],
   "source": [
    "#! wget https://cellprofiler-examples.s3.amazonaws.com/ExampleHuman.zip\n",
    "#! unzip ExampleHuman.zip"
   ]
  },
  {
   "cell_type": "code",
   "execution_count": 11,
   "id": "7c2438ba-7481-4753-b557-98bde9c112c1",
   "metadata": {
    "execution": {
     "iopub.execute_input": "2022-06-27T22:45:28.617248Z",
     "iopub.status.busy": "2022-06-27T22:45:28.616929Z",
     "iopub.status.idle": "2022-06-27T22:45:28.622908Z",
     "shell.execute_reply": "2022-06-27T22:45:28.621779Z"
    }
   },
   "outputs": [
    {
     "data": {
      "text/plain": [
       "['ExampleHuman/images/AS_09125_050116030001_D03f00d0.tif',\n",
       " 'ExampleHuman/images/AS_09125_050116030001_D03f00d1.tif',\n",
       " 'ExampleHuman/images/AS_09125_050116030001_D03f00d2.tif']"
      ]
     },
     "execution_count": 11,
     "metadata": {},
     "output_type": "execute_result"
    }
   ],
   "source": [
    "tifs = glob.glob('ExampleHuman/images/*.tif')\n",
    "tifs"
   ]
  },
  {
   "cell_type": "code",
   "execution_count": 12,
   "id": "a5eb3eb1-1f99-4443-890c-00860cfecaf4",
   "metadata": {
    "execution": {
     "iopub.execute_input": "2022-06-27T22:45:28.628469Z",
     "iopub.status.busy": "2022-06-27T22:45:28.628087Z",
     "iopub.status.idle": "2022-06-27T22:45:28.828134Z",
     "shell.execute_reply": "2022-06-27T22:45:28.825907Z"
    }
   },
   "outputs": [
    {
     "data": {
      "text/plain": [
       "array([[ 8,  8,  8, ..., 63, 78, 75],\n",
       "       [ 8,  8,  7, ..., 67, 71, 71],\n",
       "       [ 9,  8,  8, ..., 53, 64, 66],\n",
       "       ...,\n",
       "       [ 8,  9,  8, ..., 17, 24, 59],\n",
       "       [ 8,  8,  8, ..., 17, 22, 55],\n",
       "       [ 8,  8,  8, ..., 16, 18, 38]], dtype=uint8)"
      ]
     },
     "execution_count": 12,
     "metadata": {},
     "output_type": "execute_result"
    }
   ],
   "source": [
    "image = skimage.io.imread(tifs[0])\n",
    "image"
   ]
  },
  {
   "cell_type": "code",
   "execution_count": 13,
   "id": "365d3401-7239-4548-98d0-4661a9b0d52b",
   "metadata": {
    "execution": {
     "iopub.execute_input": "2022-06-27T22:45:28.832316Z",
     "iopub.status.busy": "2022-06-27T22:45:28.831951Z",
     "iopub.status.idle": "2022-06-27T22:45:28.843900Z",
     "shell.execute_reply": "2022-06-27T22:45:28.843148Z"
    }
   },
   "outputs": [
    {
     "data": {
      "text/html": [
       "<table>\n",
       "    <tr>\n",
       "        <td>\n",
       "            <table>\n",
       "                <thead>\n",
       "                    <tr>\n",
       "                        <td> </td>\n",
       "                        <th> Array </th>\n",
       "                        <th> Chunk </th>\n",
       "                    </tr>\n",
       "                </thead>\n",
       "                <tbody>\n",
       "                    \n",
       "                    <tr>\n",
       "                        <th> Bytes </th>\n",
       "                        <td> 256.00 kiB </td>\n",
       "                        <td> 256.00 kiB </td>\n",
       "                    </tr>\n",
       "                    \n",
       "                    <tr>\n",
       "                        <th> Shape </th>\n",
       "                        <td> (512, 512) </td>\n",
       "                        <td> (512, 512) </td>\n",
       "                    </tr>\n",
       "                    <tr>\n",
       "                        <th> Count </th>\n",
       "                        <td> 1 Tasks </td>\n",
       "                        <td> 1 Chunks </td>\n",
       "                    </tr>\n",
       "                    <tr>\n",
       "                    <th> Type </th>\n",
       "                    <td> uint8 </td>\n",
       "                    <td> numpy.ndarray </td>\n",
       "                    </tr>\n",
       "                </tbody>\n",
       "            </table>\n",
       "        </td>\n",
       "        <td>\n",
       "        <svg width=\"170\" height=\"170\" style=\"stroke:rgb(0,0,0);stroke-width:1\" >\n",
       "\n",
       "  <!-- Horizontal lines -->\n",
       "  <line x1=\"0\" y1=\"0\" x2=\"120\" y2=\"0\" style=\"stroke-width:2\" />\n",
       "  <line x1=\"0\" y1=\"120\" x2=\"120\" y2=\"120\" style=\"stroke-width:2\" />\n",
       "\n",
       "  <!-- Vertical lines -->\n",
       "  <line x1=\"0\" y1=\"0\" x2=\"0\" y2=\"120\" style=\"stroke-width:2\" />\n",
       "  <line x1=\"120\" y1=\"0\" x2=\"120\" y2=\"120\" style=\"stroke-width:2\" />\n",
       "\n",
       "  <!-- Colored Rectangle -->\n",
       "  <polygon points=\"0.0,0.0 120.0,0.0 120.0,120.0 0.0,120.0\" style=\"fill:#ECB172A0;stroke-width:0\"/>\n",
       "\n",
       "  <!-- Text -->\n",
       "  <text x=\"60.000000\" y=\"140.000000\" font-size=\"1.0rem\" font-weight=\"100\" text-anchor=\"middle\" >512</text>\n",
       "  <text x=\"140.000000\" y=\"60.000000\" font-size=\"1.0rem\" font-weight=\"100\" text-anchor=\"middle\" transform=\"rotate(-90,140.000000,60.000000)\">512</text>\n",
       "</svg>\n",
       "        </td>\n",
       "    </tr>\n",
       "</table>"
      ],
      "text/plain": [
       "dask.array<array, shape=(512, 512), dtype=uint8, chunksize=(512, 512), chunktype=numpy.ndarray>"
      ]
     },
     "execution_count": 13,
     "metadata": {},
     "output_type": "execute_result"
    }
   ],
   "source": [
    "da.from_array(image)"
   ]
  },
  {
   "cell_type": "markdown",
   "id": "3e0dd366-3555-421c-a6a2-1e6ab0d5ebe8",
   "metadata": {},
   "source": [
    "### Create a Prefect Flow\n",
    "\n",
    "Let's make a prefect flow, run it, visualize it in prefect, and then also visualize it in the dask status board.\n",
    "\n",
    "*There is absolutely no reason why you would run this particular flow. It's here for demonstration purposes.*"
   ]
  },
  {
   "cell_type": "code",
   "execution_count": 14,
   "id": "85ac5dc8-70d9-424b-b415-d908ce2ef016",
   "metadata": {
    "execution": {
     "iopub.execute_input": "2022-06-27T22:45:28.848720Z",
     "iopub.status.busy": "2022-06-27T22:45:28.848280Z",
     "iopub.status.idle": "2022-06-27T22:45:28.861272Z",
     "shell.execute_reply": "2022-06-27T22:45:28.860330Z"
    }
   },
   "outputs": [],
   "source": [
    "@task\n",
    "def get_mean_per_row(image):\n",
    "    return image.mean(axis=1).compute()[0]\n",
    "\n",
    "@task\n",
    "def get_max_per_row(image):\n",
    "    return image.max(axis=1).compute()[0]\n",
    "    \n",
    "@task\n",
    "def get_min_per_row(image):\n",
    "    return image.min(axis=1).compute()[0]\n",
    "\n",
    "@task\n",
    "def convert_to_dask_array(image):\n",
    "    return da.from_array(image)\n",
    "\n",
    "@task\n",
    "def read_images(image_file):\n",
    "    return skimage.io.imread(image_file)\n",
    "\n",
    "with Flow('read_images_flow') as flow:\n",
    "    images = read_images.map(image_file=tifs)\n",
    "    images_da = convert_to_dask_array.map(image=images)\n",
    "    images_min = get_min_per_row.map(image=images_da)\n",
    "    images_max = get_max_per_row.map(image=images_da)\n",
    "    images_mean = get_mean_per_row.map(image=images_da)"
   ]
  },
  {
   "cell_type": "code",
   "execution_count": 15,
   "id": "734fabe6-31db-4d39-860b-f88b48dfdbbe",
   "metadata": {
    "execution": {
     "iopub.execute_input": "2022-06-27T22:45:28.865526Z",
     "iopub.status.busy": "2022-06-27T22:45:28.865110Z",
     "iopub.status.idle": "2022-06-27T22:45:30.752172Z",
     "shell.execute_reply": "2022-06-27T22:45:30.751274Z"
    }
   },
   "outputs": [
    {
     "data": {
      "image/svg+xml": [
       "<?xml version=\"1.0\" encoding=\"UTF-8\" standalone=\"no\"?>\n",
       "<!DOCTYPE svg PUBLIC \"-//W3C//DTD SVG 1.1//EN\"\n",
       " \"http://www.w3.org/Graphics/SVG/1.1/DTD/svg11.dtd\">\n",
       "<!-- Generated by graphviz version 4.0.0 (0)\n",
       " -->\n",
       "<!-- Pages: 1 -->\n",
       "<svg width=\"528pt\" height=\"305pt\"\n",
       " viewBox=\"0.00 0.00 528.00 305.00\" xmlns=\"http://www.w3.org/2000/svg\" xmlns:xlink=\"http://www.w3.org/1999/xlink\">\n",
       "<g id=\"graph0\" class=\"graph\" transform=\"scale(1 1) rotate(0) translate(4 301)\">\n",
       "<polygon fill=\"white\" stroke=\"transparent\" points=\"-4,4 -4,-301 524,-301 524,4 -4,4\"/>\n",
       "<!-- 140625563270112 -->\n",
       "<g id=\"node1\" class=\"node\">\n",
       "<title>140625563270112</title>\n",
       "<polygon fill=\"none\" stroke=\"black\" points=\"160,-36 0,-36 0,0 160,0 160,-36\"/>\n",
       "<text text-anchor=\"middle\" x=\"80\" y=\"-14.3\" font-family=\"Times,serif\" font-size=\"14.00\">get_max_per_row &lt;map&gt;</text>\n",
       "</g>\n",
       "<!-- 140625563268816 -->\n",
       "<g id=\"node2\" class=\"node\">\n",
       "<title>140625563268816</title>\n",
       "<polygon fill=\"none\" stroke=\"black\" points=\"322,-210 192,-210 192,-174 322,-174 322,-210\"/>\n",
       "<text text-anchor=\"middle\" x=\"257\" y=\"-188.3\" font-family=\"Times,serif\" font-size=\"14.00\">read_images &lt;map&gt;</text>\n",
       "</g>\n",
       "<!-- 140625563269008 -->\n",
       "<g id=\"node3\" class=\"node\">\n",
       "<title>140625563269008</title>\n",
       "<polygon fill=\"none\" stroke=\"black\" points=\"349.5,-123 164.5,-123 164.5,-87 349.5,-87 349.5,-123\"/>\n",
       "<text text-anchor=\"middle\" x=\"257\" y=\"-101.3\" font-family=\"Times,serif\" font-size=\"14.00\">convert_to_dask_array &lt;map&gt;</text>\n",
       "</g>\n",
       "<!-- 140625563268816&#45;&gt;140625563269008 -->\n",
       "<g id=\"edge5\" class=\"edge\">\n",
       "<title>140625563268816&#45;&gt;140625563269008</title>\n",
       "<path fill=\"none\" stroke=\"black\" stroke-dasharray=\"5,2\" d=\"M257,-173.8C257,-162.16 257,-146.55 257,-133.24\"/>\n",
       "<polygon fill=\"black\" stroke=\"black\" points=\"260.5,-133.18 257,-123.18 253.5,-133.18 260.5,-133.18\"/>\n",
       "<text text-anchor=\"middle\" x=\"274\" y=\"-144.8\" font-family=\"Times,serif\" font-size=\"14.00\">image</text>\n",
       "</g>\n",
       "<!-- 140625563269008&#45;&gt;140625563270112 -->\n",
       "<g id=\"edge3\" class=\"edge\">\n",
       "<title>140625563269008&#45;&gt;140625563270112</title>\n",
       "<path fill=\"none\" stroke=\"black\" stroke-dasharray=\"5,2\" d=\"M221.18,-86.8C193.38,-73.45 154.67,-54.86 124.82,-40.52\"/>\n",
       "<polygon fill=\"black\" stroke=\"black\" points=\"125.99,-37.2 115.46,-36.03 122.96,-43.51 125.99,-37.2\"/>\n",
       "<text text-anchor=\"middle\" x=\"197\" y=\"-57.8\" font-family=\"Times,serif\" font-size=\"14.00\">image</text>\n",
       "</g>\n",
       "<!-- 140625563269584 -->\n",
       "<g id=\"node5\" class=\"node\">\n",
       "<title>140625563269584</title>\n",
       "<polygon fill=\"none\" stroke=\"black\" points=\"336,-36 178,-36 178,0 336,0 336,-36\"/>\n",
       "<text text-anchor=\"middle\" x=\"257\" y=\"-14.3\" font-family=\"Times,serif\" font-size=\"14.00\">get_min_per_row &lt;map&gt;</text>\n",
       "</g>\n",
       "<!-- 140625563269008&#45;&gt;140625563269584 -->\n",
       "<g id=\"edge4\" class=\"edge\">\n",
       "<title>140625563269008&#45;&gt;140625563269584</title>\n",
       "<path fill=\"none\" stroke=\"black\" stroke-dasharray=\"5,2\" d=\"M257,-86.8C257,-75.16 257,-59.55 257,-46.24\"/>\n",
       "<polygon fill=\"black\" stroke=\"black\" points=\"260.5,-46.18 257,-36.18 253.5,-46.18 260.5,-46.18\"/>\n",
       "<text text-anchor=\"middle\" x=\"274\" y=\"-57.8\" font-family=\"Times,serif\" font-size=\"14.00\">image</text>\n",
       "</g>\n",
       "<!-- 140625563270544 -->\n",
       "<g id=\"node6\" class=\"node\">\n",
       "<title>140625563270544</title>\n",
       "<polygon fill=\"none\" stroke=\"black\" points=\"520,-36 354,-36 354,0 520,0 520,-36\"/>\n",
       "<text text-anchor=\"middle\" x=\"437\" y=\"-14.3\" font-family=\"Times,serif\" font-size=\"14.00\">get_mean_per_row &lt;map&gt;</text>\n",
       "</g>\n",
       "<!-- 140625563269008&#45;&gt;140625563270544 -->\n",
       "<g id=\"edge2\" class=\"edge\">\n",
       "<title>140625563269008&#45;&gt;140625563270544</title>\n",
       "<path fill=\"none\" stroke=\"black\" stroke-dasharray=\"5,2\" d=\"M293.43,-86.8C321.82,-73.39 361.4,-54.7 391.81,-40.34\"/>\n",
       "<polygon fill=\"black\" stroke=\"black\" points=\"393.39,-43.47 400.94,-36.03 390.4,-37.14 393.39,-43.47\"/>\n",
       "<text text-anchor=\"middle\" x=\"374\" y=\"-57.8\" font-family=\"Times,serif\" font-size=\"14.00\">image</text>\n",
       "</g>\n",
       "<!-- 140625563269104 -->\n",
       "<g id=\"node4\" class=\"node\">\n",
       "<title>140625563269104</title>\n",
       "<ellipse fill=\"none\" stroke=\"black\" cx=\"257\" cy=\"-279\" rx=\"58.49\" ry=\"18\"/>\n",
       "<text text-anchor=\"middle\" x=\"257\" y=\"-275.3\" font-family=\"Times,serif\" font-size=\"14.00\">Constant[list]</text>\n",
       "</g>\n",
       "<!-- 140625563269104&#45;&gt;140625563268816 -->\n",
       "<g id=\"edge1\" class=\"edge\">\n",
       "<title>140625563269104&#45;&gt;140625563268816</title>\n",
       "<path fill=\"none\" stroke=\"black\" stroke-dasharray=\"5,2\" d=\"M257,-260.8C257,-249.16 257,-233.55 257,-220.24\"/>\n",
       "<polygon fill=\"black\" stroke=\"black\" points=\"260.5,-220.18 257,-210.18 253.5,-220.18 260.5,-220.18\"/>\n",
       "<text text-anchor=\"middle\" x=\"286\" y=\"-231.8\" font-family=\"Times,serif\" font-size=\"14.00\">image_file</text>\n",
       "</g>\n",
       "</g>\n",
       "</svg>\n"
      ],
      "text/plain": [
       "<graphviz.graphs.Digraph at 0x7fe5f0ba2250>"
      ]
     },
     "execution_count": 15,
     "metadata": {},
     "output_type": "execute_result"
    }
   ],
   "source": [
    "flow.visualize()"
   ]
  },
  {
   "cell_type": "code",
   "execution_count": 16,
   "id": "152da439-a2ec-4f37-a2b1-648218e03ff6",
   "metadata": {
    "execution": {
     "iopub.execute_input": "2022-06-27T22:45:30.756231Z",
     "iopub.status.busy": "2022-06-27T22:45:30.755768Z",
     "iopub.status.idle": "2022-06-27T22:45:37.928237Z",
     "shell.execute_reply": "2022-06-27T22:45:37.927469Z"
    }
   },
   "outputs": [
    {
     "name": "stdout",
     "output_type": "stream",
     "text": [
      "[2022-06-27 18:45:30-0400] INFO - prefect.FlowRunner | Beginning Flow run for 'read_images_flow'\n"
     ]
    },
    {
     "name": "stdout",
     "output_type": "stream",
     "text": [
      "[2022-06-27 18:45:30-0400] INFO - prefect.DaskExecutor | Connecting to an existing Dask cluster at tcp://127.0.0.1:62835\n"
     ]
    },
    {
     "name": "stderr",
     "output_type": "stream",
     "text": [
      "/Users/jillian/opt/miniconda3/envs/datascience/lib/python3.8/site-packages/distributed/scheduler.py:4838: UserWarning: Scheduler already contains a plugin with name worker-status; overwriting.\n",
      "  warnings.warn(\n"
     ]
    },
    {
     "name": "stdout",
     "output_type": "stream",
     "text": [
      "[2022-06-27 18:45:34-0400] INFO - prefect.TaskRunner | Task 'read_images': Starting task run...\n",
      "[2022-06-27 18:45:34-0400] INFO - prefect.TaskRunner | Task 'read_images': Finished task run for task with final state: 'Mapped'\n"
     ]
    },
    {
     "name": "stdout",
     "output_type": "stream",
     "text": [
      "[2022-06-27 18:45:34-0400] INFO - prefect.TaskRunner | Task 'convert_to_dask_array': Starting task run...\n",
      "[2022-06-27 18:45:34-0400] INFO - prefect.TaskRunner | Task 'convert_to_dask_array': Finished task run for task with final state: 'Mapped'\n",
      "[2022-06-27 18:45:34-0400] INFO - prefect.TaskRunner | Task 'get_min_per_row': Starting task run...\n",
      "[2022-06-27 18:45:34-0400] INFO - prefect.TaskRunner | Task 'get_min_per_row': Finished task run for task with final state: 'Mapped'\n"
     ]
    },
    {
     "name": "stdout",
     "output_type": "stream",
     "text": [
      "[2022-06-27 18:45:35-0400] INFO - prefect.TaskRunner | Task 'get_mean_per_row': Starting task run...\n",
      "[2022-06-27 18:45:35-0400] INFO - prefect.TaskRunner | Task 'get_mean_per_row': Finished task run for task with final state: 'Mapped'\n",
      "[2022-06-27 18:45:35-0400] INFO - prefect.TaskRunner | Task 'get_max_per_row': Starting task run...\n",
      "[2022-06-27 18:45:35-0400] INFO - prefect.TaskRunner | Task 'get_max_per_row': Finished task run for task with final state: 'Mapped'\n"
     ]
    },
    {
     "name": "stdout",
     "output_type": "stream",
     "text": [
      "[2022-06-27 18:45:36-0400] INFO - prefect.TaskRunner | Task 'read_images[0]': Starting task run...\n",
      "[2022-06-27 18:45:36-0400] INFO - prefect.TaskRunner | Task 'read_images[2]': Starting task run...\n",
      "[2022-06-27 18:45:36-0400] INFO - prefect.TaskRunner | Task 'read_images[1]': Starting task run...\n",
      "[2022-06-27 18:45:36-0400] INFO - prefect.TaskRunner | Task 'read_images[2]': Finished task run for task with final state: 'Success'\n",
      "[2022-06-27 18:45:36-0400] INFO - prefect.TaskRunner | Task 'read_images[0]': Finished task run for task with final state: 'Success'\n",
      "[2022-06-27 18:45:36-0400] INFO - prefect.TaskRunner | Task 'read_images[1]': Finished task run for task with final state: 'Success'\n"
     ]
    },
    {
     "name": "stdout",
     "output_type": "stream",
     "text": [
      "[2022-06-27 18:45:37-0400] INFO - prefect.TaskRunner | Task 'convert_to_dask_array[2]': Starting task run...\n",
      "[2022-06-27 18:45:37-0400] INFO - prefect.TaskRunner | Task 'convert_to_dask_array[2]': Finished task run for task with final state: 'Success'\n",
      "[2022-06-27 18:45:37-0400] INFO - prefect.TaskRunner | Task 'convert_to_dask_array[0]': Starting task run...\n",
      "[2022-06-27 18:45:37-0400] INFO - prefect.TaskRunner | Task 'convert_to_dask_array[0]': Finished task run for task with final state: 'Success'\n",
      "[2022-06-27 18:45:37-0400] INFO - prefect.TaskRunner | Task 'convert_to_dask_array[1]': Starting task run...\n",
      "[2022-06-27 18:45:37-0400] INFO - prefect.TaskRunner | Task 'convert_to_dask_array[1]': Finished task run for task with final state: 'Success'\n",
      "[2022-06-27 18:45:37-0400] INFO - prefect.TaskRunner | Task 'get_min_per_row[2]': Starting task run...\n",
      "[2022-06-27 18:45:37-0400] INFO - prefect.TaskRunner | Task 'get_min_per_row[0]': Starting task run...\n",
      "[2022-06-27 18:45:37-0400] INFO - prefect.TaskRunner | Task 'get_mean_per_row[2]': Starting task run...\n",
      "[2022-06-27 18:45:37-0400] INFO - prefect.TaskRunner | Task 'get_min_per_row[1]': Starting task run...\n",
      "[2022-06-27 18:45:37-0400] INFO - prefect.TaskRunner | Task 'get_mean_per_row[0]': Starting task run...\n",
      "[2022-06-27 18:45:37-0400] INFO - prefect.TaskRunner | Task 'get_mean_per_row[1]': Starting task run...\n",
      "[2022-06-27 18:45:37-0400] INFO - prefect.TaskRunner | Task 'get_max_per_row[2]': Starting task run...\n",
      "[2022-06-27 18:45:37-0400] INFO - prefect.TaskRunner | Task 'get_max_per_row[0]': Starting task run...\n",
      "[2022-06-27 18:45:37-0400] INFO - prefect.TaskRunner | Task 'get_max_per_row[1]': Starting task run...\n"
     ]
    },
    {
     "name": "stdout",
     "output_type": "stream",
     "text": [
      "[2022-06-27 18:45:37-0400] INFO - prefect.TaskRunner | Task 'get_min_per_row[0]': Finished task run for task with final state: 'Success'\n",
      "[2022-06-27 18:45:37-0400] INFO - prefect.TaskRunner | Task 'get_min_per_row[1]': Finished task run for task with final state: 'Success'\n",
      "[2022-06-27 18:45:37-0400] INFO - prefect.TaskRunner | Task 'get_mean_per_row[2]': Finished task run for task with final state: 'Success'\n",
      "[2022-06-27 18:45:37-0400] INFO - prefect.TaskRunner | Task 'get_min_per_row[2]': Finished task run for task with final state: 'Success'\n",
      "[2022-06-27 18:45:37-0400] INFO - prefect.TaskRunner | Task 'get_mean_per_row[0]': Finished task run for task with final state: 'Success'\n",
      "[2022-06-27 18:45:37-0400] INFO - prefect.TaskRunner | Task 'get_max_per_row[0]': Finished task run for task with final state: 'Success'\n",
      "[2022-06-27 18:45:37-0400] INFO - prefect.TaskRunner | Task 'get_max_per_row[2]': Finished task run for task with final state: 'Success'\n",
      "[2022-06-27 18:45:37-0400] INFO - prefect.TaskRunner | Task 'get_mean_per_row[1]': Finished task run for task with final state: 'Success'\n",
      "[2022-06-27 18:45:37-0400] INFO - prefect.TaskRunner | Task 'get_max_per_row[1]': Finished task run for task with final state: 'Success'\n",
      "[2022-06-27 18:45:37-0400] INFO - prefect.FlowRunner | Flow run SUCCESS: all reference tasks succeeded\n"
     ]
    },
    {
     "name": "stderr",
     "output_type": "stream",
     "text": [
      "/Users/jillian/opt/miniconda3/envs/datascience/lib/python3.8/site-packages/prefect/executors/dask.py:313: RuntimeWarning: coroutine 'rpc.close_rpc' was never awaited\n",
      "  scheduler_comm.close_rpc()\n"
     ]
    },
    {
     "data": {
      "text/plain": [
       "<Success: \"All reference tasks succeeded.\">"
      ]
     },
     "execution_count": 16,
     "metadata": {},
     "output_type": "execute_result"
    }
   ],
   "source": [
    "flow_state = flow.run(executor=executor)\n",
    "flow_state"
   ]
  },
  {
   "cell_type": "markdown",
   "id": "97632bca-0553-4020-9eee-67b46ffeb881",
   "metadata": {},
   "source": [
    "### Getting the Prefect Results\n",
    "\n",
    "If you run your functions in a prefect flow you need to interact with the `flow_state` object in order to get your results.\n",
    "\n",
    "[Interacting with Results](https://docs.prefect.io/core/concepts/results.html#interacting-with-task-result-objects)"
   ]
  },
  {
   "cell_type": "markdown",
   "id": "24962993-7c25-4fc5-a932-4f1bd4a4644d",
   "metadata": {},
   "source": [
    "### Getting the Prefect Results for objects in memory\n",
    "\n",
    "If you are calling prefect from a notebook or script it is likely that your objects are still in memory. You can reference the results by use the `flow_state.result[my_object]`."
   ]
  },
  {
   "cell_type": "code",
   "execution_count": 17,
   "id": "0826773d-16df-4ffa-8a11-4b2da1b94aa9",
   "metadata": {
    "execution": {
     "iopub.execute_input": "2022-06-27T22:45:37.932087Z",
     "iopub.status.busy": "2022-06-27T22:45:37.931759Z",
     "iopub.status.idle": "2022-06-27T22:45:37.935350Z",
     "shell.execute_reply": "2022-06-27T22:45:37.934481Z"
    }
   },
   "outputs": [],
   "source": [
    "images_da.result"
   ]
  },
  {
   "cell_type": "code",
   "execution_count": 18,
   "id": "8533fc60-6c10-4cdb-bafc-f0439089bb6d",
   "metadata": {
    "execution": {
     "iopub.execute_input": "2022-06-27T22:45:37.938796Z",
     "iopub.status.busy": "2022-06-27T22:45:37.938472Z",
     "iopub.status.idle": "2022-06-27T22:45:37.943340Z",
     "shell.execute_reply": "2022-06-27T22:45:37.942654Z"
    }
   },
   "outputs": [
    {
     "data": {
      "text/plain": [
       "{<Task: get_max_per_row>: <Mapped: \"Ready to proceed with mapping.\">,\n",
       " <Task: read_images>: <Mapped: \"Ready to proceed with mapping.\">,\n",
       " <Task: convert_to_dask_array>: <Mapped: \"Ready to proceed with mapping.\">,\n",
       " <Task: Constant[list]>: <Success>,\n",
       " <Task: get_min_per_row>: <Mapped: \"Ready to proceed with mapping.\">,\n",
       " <Task: get_mean_per_row>: <Mapped: \"Ready to proceed with mapping.\">}"
      ]
     },
     "execution_count": 18,
     "metadata": {},
     "output_type": "execute_result"
    }
   ],
   "source": [
    "flow_state.result"
   ]
  },
  {
   "cell_type": "code",
   "execution_count": 19,
   "id": "548ec550-699d-4766-94d5-cd576a798272",
   "metadata": {
    "execution": {
     "iopub.execute_input": "2022-06-27T22:45:37.946619Z",
     "iopub.status.busy": "2022-06-27T22:45:37.946326Z",
     "iopub.status.idle": "2022-06-27T22:45:37.950866Z",
     "shell.execute_reply": "2022-06-27T22:45:37.950231Z"
    }
   },
   "outputs": [
    {
     "data": {
      "text/plain": [
       "<Result: [dask.array<array, shape=(512, 512), dtype=uint8, chunksize=(512, 512), chunktype=numpy.ndarray>, dask.array<array, shape=(512, 512), dtype=uint8, chunksize=(512, 512), chunktype=numpy.ndarray>, dask.array<array, shape=(512, 512), dtype=uint8, chunksize=(512, 512), chunktype=numpy.ndarray>]>"
      ]
     },
     "execution_count": 19,
     "metadata": {},
     "output_type": "execute_result"
    }
   ],
   "source": [
    "flow_state.result[images_da]._result"
   ]
  },
  {
   "cell_type": "code",
   "execution_count": 20,
   "id": "3434da06-0486-4afe-91df-00a08466237c",
   "metadata": {
    "execution": {
     "iopub.execute_input": "2022-06-27T22:45:37.953655Z",
     "iopub.status.busy": "2022-06-27T22:45:37.953386Z",
     "iopub.status.idle": "2022-06-27T22:45:37.958032Z",
     "shell.execute_reply": "2022-06-27T22:45:37.957498Z"
    }
   },
   "outputs": [
    {
     "name": "stdout",
     "output_type": "stream",
     "text": [
      "Help on Result in module prefect.engine.result.base object:\n",
      "\n",
      "class Result(builtins.object)\n",
      " |  Result(value: Any = None, location: str = None, serializer: prefect.engine.serializers.Serializer = None)\n",
      " |  \n",
      " |  A representation of the result of a Prefect task; this class contains\n",
      " |  information about the value of a task's result, a result handler specifying\n",
      " |  how to serialize or store this value securely, and a `safe_value` attribute\n",
      " |  which holds information about the current \"safe\" representation of this\n",
      " |  result.\n",
      " |  \n",
      " |  Args:\n",
      " |      - value (Any, optional): the value of the result\n",
      " |      - location (Union[str, Callable], optional): Possibly templated location\n",
      " |          to be used for saving the result to the destination. If a callable\n",
      " |          function is provided, it should have signature `callable(**kwargs) ->\n",
      " |          str` and at write time all formatting kwargs will be passed and a fully\n",
      " |          formatted location is expected as the return value.  Can be used for\n",
      " |          string formatting logic that `.format(**kwargs)` doesn't support\n",
      " |      - serializer (Serializer): a serializer that can transform Python\n",
      " |          objects to bytes and recover them. The serializer is used whenever the\n",
      " |          `Result` is writing to or reading from storage. Defaults to\n",
      " |          `PickleSerializer`.\n",
      " |  \n",
      " |  Methods defined here:\n",
      " |  \n",
      " |  __eq__(self, other: Any) -> bool\n",
      " |      Return self==value.\n",
      " |  \n",
      " |  __init__(self, value: Any = None, location: str = None, serializer: prefect.engine.serializers.Serializer = None)\n",
      " |      Initialize self.  See help(type(self)) for accurate signature.\n",
      " |  \n",
      " |  __repr__(self) -> str\n",
      " |      Return repr(self).\n",
      " |  \n",
      " |  copy(self) -> 'Result'\n",
      " |      Return a copy of the current result object.\n",
      " |  \n",
      " |  exists(self, location: str, **kwargs: Any) -> bool\n",
      " |      Checks whether the target result exists.\n",
      " |      \n",
      " |      Args:\n",
      " |          - location (str, optional): Location of the result in the specific result target.\n",
      " |              If provided, will check whether the provided location exists;\n",
      " |              otherwise, will use `self.location`\n",
      " |          - **kwargs (Any): string format arguments for `location`\n",
      " |      \n",
      " |      Returns:\n",
      " |          - bool: whether or not the target result exists.\n",
      " |  \n",
      " |  format(self, **kwargs: Any) -> 'Result'\n",
      " |      Takes a set of string format key-value pairs and renders the result.location to a final\n",
      " |      location string\n",
      " |      \n",
      " |      Args:\n",
      " |          - **kwargs (Any): string format arguments for result.location\n",
      " |      \n",
      " |      Returns:\n",
      " |          - Result: a new result instance with the appropriately formatted location\n",
      " |  \n",
      " |  from_value(self, value: Any) -> 'Result'\n",
      " |      Create a new copy of the result object with the provided value.\n",
      " |      \n",
      " |      Args:\n",
      " |          - value (Any): the value to use\n",
      " |      \n",
      " |      Returns:\n",
      " |          - Result: a new Result instance with the given value\n",
      " |  \n",
      " |  read(self, location: str) -> 'Result'\n",
      " |      Reads from the target result and returns a corresponding `Result` instance.\n",
      " |      \n",
      " |      Args:\n",
      " |          - location (str): Location of the result in the specific result target.\n",
      " |      \n",
      " |      Returns:\n",
      " |          - Any: The value saved to the result.\n",
      " |  \n",
      " |  write(self, value_: Any, **kwargs: Any) -> 'Result'\n",
      " |      Serialize and write the result to the target location.\n",
      " |      \n",
      " |      Args:\n",
      " |          - value_ (Any): the value to write; will then be stored as the `value` attribute\n",
      " |              of the returned `Result` instance\n",
      " |          - **kwargs (optional): if provided, will be used to format the location template\n",
      " |              to determine the location to write to\n",
      " |      \n",
      " |      Returns:\n",
      " |          - Result: a new result object with the appropriately formatted location destination\n",
      " |  \n",
      " |  ----------------------------------------------------------------------\n",
      " |  Readonly properties defined here:\n",
      " |  \n",
      " |  default_location\n",
      " |  \n",
      " |  ----------------------------------------------------------------------\n",
      " |  Data descriptors defined here:\n",
      " |  \n",
      " |  __dict__\n",
      " |      dictionary for instance variables (if defined)\n",
      " |  \n",
      " |  __weakref__\n",
      " |      list of weak references to the object (if defined)\n",
      " |  \n",
      " |  ----------------------------------------------------------------------\n",
      " |  Data and other attributes defined here:\n",
      " |  \n",
      " |  __hash__ = None\n",
      " |  \n",
      " |  __slotnames__ = []\n",
      "\n"
     ]
    }
   ],
   "source": [
    "help(flow_state.result[images_da]._result)"
   ]
  },
  {
   "cell_type": "code",
   "execution_count": 21,
   "id": "7ea46dfc-2488-47d2-af96-0df555fe2978",
   "metadata": {
    "execution": {
     "iopub.execute_input": "2022-06-27T22:45:37.960784Z",
     "iopub.status.busy": "2022-06-27T22:45:37.960516Z",
     "iopub.status.idle": "2022-06-27T22:45:37.964913Z",
     "shell.execute_reply": "2022-06-27T22:45:37.964274Z"
    }
   },
   "outputs": [
    {
     "data": {
      "text/plain": [
       "[dask.array<array, shape=(512, 512), dtype=uint8, chunksize=(512, 512), chunktype=numpy.ndarray>,\n",
       " dask.array<array, shape=(512, 512), dtype=uint8, chunksize=(512, 512), chunktype=numpy.ndarray>,\n",
       " dask.array<array, shape=(512, 512), dtype=uint8, chunksize=(512, 512), chunktype=numpy.ndarray>]"
      ]
     },
     "execution_count": 21,
     "metadata": {},
     "output_type": "execute_result"
    }
   ],
   "source": [
    "flow_state.result[images_da]._result.value"
   ]
  },
  {
   "cell_type": "markdown",
   "id": "eea74c70-f75e-4770-b3b2-60684f9264fa",
   "metadata": {},
   "source": [
    "### Getting Results from Prefect Flow State\n",
    "\n",
    "If your objects are no longer in memory you will need to do a bit more digging.\n",
    "\n",
    "*Note* You probably don't really want to be doing this, but instead persisting your results to a database/parquet file/etc."
   ]
  },
  {
   "cell_type": "code",
   "execution_count": 22,
   "id": "8bea24ba-0a0c-4e5e-beca-fd8b0a2cdc31",
   "metadata": {
    "execution": {
     "iopub.execute_input": "2022-06-27T22:45:37.967821Z",
     "iopub.status.busy": "2022-06-27T22:45:37.967554Z",
     "iopub.status.idle": "2022-06-27T22:45:37.971848Z",
     "shell.execute_reply": "2022-06-27T22:45:37.971344Z"
    }
   },
   "outputs": [
    {
     "data": {
      "text/plain": [
       "dict_keys([<Task: get_max_per_row>, <Task: read_images>, <Task: convert_to_dask_array>, <Task: Constant[list]>, <Task: get_min_per_row>, <Task: get_mean_per_row>])"
      ]
     },
     "execution_count": 22,
     "metadata": {},
     "output_type": "execute_result"
    }
   ],
   "source": [
    "flow_state.result.keys()"
   ]
  },
  {
   "cell_type": "code",
   "execution_count": 23,
   "id": "d1883b28-f9dd-414e-b74c-a25aab50c5c0",
   "metadata": {
    "execution": {
     "iopub.execute_input": "2022-06-27T22:45:37.974607Z",
     "iopub.status.busy": "2022-06-27T22:45:37.974345Z",
     "iopub.status.idle": "2022-06-27T22:45:37.979278Z",
     "shell.execute_reply": "2022-06-27T22:45:37.978712Z"
    }
   },
   "outputs": [
    {
     "name": "stdout",
     "output_type": "stream",
     "text": [
      "<Task: get_max_per_row>\n",
      "<Task: read_images>\n",
      "<Task: convert_to_dask_array>\n",
      "<Task: Constant[list]>\n",
      "<Task: get_min_per_row>\n",
      "<Task: get_mean_per_row>\n"
     ]
    },
    {
     "data": {
      "text/plain": [
       "dict_keys(['<Task: get_max_per_row>', '<Task: read_images>', '<Task: convert_to_dask_array>', '<Task: Constant[list]>', '<Task: get_min_per_row>', '<Task: get_mean_per_row>'])"
      ]
     },
     "execution_count": 23,
     "metadata": {},
     "output_type": "execute_result"
    }
   ],
   "source": [
    "results = {}\n",
    "for key in flow_state.result.keys():\n",
    "    print(key)\n",
    "    results[str(key)] = flow_state.result[key]._result\n",
    "    \n",
    "results.keys()"
   ]
  },
  {
   "cell_type": "code",
   "execution_count": 24,
   "id": "34c89e71-c0c6-4356-90e7-cdabe82b5b4c",
   "metadata": {
    "execution": {
     "iopub.execute_input": "2022-06-27T22:45:37.982021Z",
     "iopub.status.busy": "2022-06-27T22:45:37.981761Z",
     "iopub.status.idle": "2022-06-27T22:45:37.985589Z",
     "shell.execute_reply": "2022-06-27T22:45:37.985006Z"
    }
   },
   "outputs": [
    {
     "data": {
      "text/plain": [
       "<Result: [82, 12, 178]>"
      ]
     },
     "execution_count": 24,
     "metadata": {},
     "output_type": "execute_result"
    }
   ],
   "source": [
    "results['<Task: get_max_per_row>']"
   ]
  },
  {
   "cell_type": "code",
   "execution_count": null,
   "id": "506d3248-4512-4d05-a4d7-1b675d2f7012",
   "metadata": {},
   "outputs": [],
   "source": []
  }
 ],
 "metadata": {
  "kernelspec": {
   "display_name": "Python (datascience)",
   "language": "python",
   "name": "datascience"
  },
  "language_info": {
   "codemirror_mode": {
    "name": "ipython",
    "version": 3
   },
   "file_extension": ".py",
   "mimetype": "text/x-python",
   "name": "python",
   "nbconvert_exporter": "python",
   "pygments_lexer": "ipython3",
   "version": "3.8.13"
  }
 },
 "nbformat": 4,
 "nbformat_minor": 5
}
