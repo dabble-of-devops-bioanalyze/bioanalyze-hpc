{
 "cells": [
  {
   "cell_type": "markdown",
   "id": "c0aa34e4-0f2e-42d0-8ee1-f48c1d87360c",
   "metadata": {
    "pycharm": {
     "name": "#%% md\n"
    }
   },
   "source": [
    "## Nextflow with SLURM Tutorial\n",
    "\n",
    "Let's run a Nextflow pipeline."
   ]
  },
  {
   "cell_type": "code",
   "execution_count": 1,
   "id": "c07b4551-4802-4338-b66f-9cc041e62796",
   "metadata": {
    "execution": {
     "iopub.execute_input": "2022-06-27T22:44:55.360371Z",
     "iopub.status.busy": "2022-06-27T22:44:55.360085Z",
     "iopub.status.idle": "2022-06-27T22:44:55.468645Z",
     "shell.execute_reply": "2022-06-27T22:44:55.467864Z"
    },
    "pycharm": {
     "name": "#%%\n"
    }
   },
   "outputs": [
    {
     "name": "stdout",
     "output_type": "stream",
     "text": [
      "\u001b[?2004l\r",
      "bash: module: command not found\n"
     ]
    },
    {
     "name": "stdout",
     "output_type": "stream",
     "text": [
      "\u001b[?2004h"
     ]
    },
    {
     "ename": "",
     "evalue": "1",
     "output_type": "error",
     "traceback": []
    }
   ],
   "source": [
    "module load pcluster-helpers"
   ]
  },
  {
   "cell_type": "code",
   "execution_count": 2,
   "id": "f79d1d9e-f0a0-4e4f-90ca-33f5c356b646",
   "metadata": {
    "execution": {
     "iopub.execute_input": "2022-06-27T22:44:55.472381Z",
     "iopub.status.busy": "2022-06-27T22:44:55.472077Z",
     "iopub.status.idle": "2022-06-27T22:44:55.578172Z",
     "shell.execute_reply": "2022-06-27T22:44:55.577676Z"
    },
    "pycharm": {
     "name": "#%%\n"
    }
   },
   "outputs": [
    {
     "name": "stdout",
     "output_type": "stream",
     "text": [
      "\u001b[?2004l\r",
      "bash: pcluster-helper: command not found\n"
     ]
    },
    {
     "name": "stdout",
     "output_type": "stream",
     "text": [
      "\u001b[?2004h"
     ]
    },
    {
     "ename": "",
     "evalue": "1",
     "output_type": "error",
     "traceback": []
    }
   ],
   "source": [
    "pcluster-helper --help"
   ]
  },
  {
   "cell_type": "markdown",
   "id": "059c46d9-1533-4b40-938b-8698e07f6fd1",
   "metadata": {
    "pycharm": {
     "name": "#%% md\n"
    }
   },
   "source": [
    "### Generate a Nextflow slurm.config\n",
    "\n",
    "We'll use the `pcluster-helper gen-nxf-slurm-config` in order to generate a default slurm configuration file."
   ]
  },
  {
   "cell_type": "code",
   "execution_count": 3,
   "id": "0ef18353-c9a4-4c56-ac06-e30b2b0b1520",
   "metadata": {
    "execution": {
     "iopub.execute_input": "2022-06-27T22:44:55.581018Z",
     "iopub.status.busy": "2022-06-27T22:44:55.580815Z",
     "iopub.status.idle": "2022-06-27T22:44:55.692493Z",
     "shell.execute_reply": "2022-06-27T22:44:55.691581Z"
    },
    "pycharm": {
     "name": "#%%\n"
    }
   },
   "outputs": [
    {
     "name": "stdout",
     "output_type": "stream",
     "text": [
      "\u001b[?2004l\r",
      "bash: pcluster-helper: command not found\n"
     ]
    },
    {
     "name": "stdout",
     "output_type": "stream",
     "text": [
      "\u001b[?2004h"
     ]
    },
    {
     "ename": "",
     "evalue": "1",
     "output_type": "error",
     "traceback": []
    }
   ],
   "source": [
    "pcluster-helper gen-nxf-slurm-config  --help"
   ]
  },
  {
   "cell_type": "code",
   "execution_count": 4,
   "id": "4e2d66ec-6d15-4b9f-90be-0655352362c4",
   "metadata": {
    "execution": {
     "iopub.execute_input": "2022-06-27T22:44:55.696301Z",
     "iopub.status.busy": "2022-06-27T22:44:55.696040Z",
     "iopub.status.idle": "2022-06-27T22:44:55.807962Z",
     "shell.execute_reply": "2022-06-27T22:44:55.807305Z"
    },
    "pycharm": {
     "name": "#%%\n"
    }
   },
   "outputs": [
    {
     "name": "stdout",
     "output_type": "stream",
     "text": [
      "\u001b[?2004l\r",
      "bash: pcluster-helper: command not found\n"
     ]
    },
    {
     "name": "stdout",
     "output_type": "stream",
     "text": [
      "\u001b[?2004h"
     ]
    },
    {
     "ename": "",
     "evalue": "1",
     "output_type": "error",
     "traceback": []
    }
   ],
   "source": [
    "pcluster-helper gen-nxf-slurm-config  --output slurm.config --overwrite"
   ]
  },
  {
   "cell_type": "markdown",
   "id": "6e95e37c-d4bb-41ff-b3d6-a31eac4ca990",
   "metadata": {
    "pycharm": {
     "name": "#%% md\n"
    }
   },
   "source": [
    "We'll also want to create a default configuration for jobs that don't have a process tag. I'll choose a small one for this demonstration, but you should choose which instance is best for your workflows."
   ]
  },
  {
   "cell_type": "code",
   "execution_count": 5,
   "id": "8044ffda-06e3-4a09-b236-717d990b2774",
   "metadata": {
    "execution": {
     "iopub.execute_input": "2022-06-27T22:44:55.812816Z",
     "iopub.status.busy": "2022-06-27T22:44:55.812399Z",
     "iopub.status.idle": "2022-06-27T22:44:56.357340Z",
     "shell.execute_reply": "2022-06-27T22:44:56.356286Z"
    },
    "pycharm": {
     "name": "#%%\n"
    }
   },
   "outputs": [
    {
     "name": "stdout",
     "output_type": "stream",
     "text": [
      "\u001b[?2004l\r",
      "\u001b[?2004h"
     ]
    },
    {
     "name": "stdout",
     "output_type": "stream",
     "text": [
      "\u001b[?2004l\r",
      "\u001b[?2004h"
     ]
    },
    {
     "name": "stdout",
     "output_type": "stream",
     "text": [
      "\u001b[?2004l\r",
      "\u001b[?2004h"
     ]
    },
    {
     "name": "stdout",
     "output_type": "stream",
     "text": [
      "\u001b[?2004l\r",
      "\u001b[?2004h"
     ]
    },
    {
     "name": "stdout",
     "output_type": "stream",
     "text": [
      "\u001b[?2004l\r",
      "\u001b[?2004h"
     ]
    },
    {
     "name": "stdout",
     "output_type": "stream",
     "text": [
      "\u001b[?2004l\r",
      "\u001b[?2004h"
     ]
    },
    {
     "name": "stdout",
     "output_type": "stream",
     "text": [
      "\u001b[?2004l\r",
      "\u001b[?2004h"
     ]
    },
    {
     "name": "stdout",
     "output_type": "stream",
     "text": [
      "\u001b[?2004l\r",
      "\u001b[?2004h"
     ]
    },
    {
     "name": "stdout",
     "output_type": "stream",
     "text": [
      "\u001b[?2004l\r",
      "\u001b[?2004h"
     ]
    },
    {
     "ename": "",
     "evalue": "1",
     "output_type": "error",
     "traceback": []
    }
   ],
   "source": [
    "cat > ./slurm-default.config <<'EOF'\n",
    "process {\n",
    "    executor='slurm'\n",
    "     // mem = 12\n",
    "    cpus = 2\n",
    "    memory = ''\n",
    "    clusterOptions = '--partition basic --constraint t3alarge'\n",
    "}\n",
    "EOF"
   ]
  },
  {
   "cell_type": "code",
   "execution_count": 6,
   "id": "ea2b3977-133d-4c84-8b22-4ced8eaebc9e",
   "metadata": {
    "execution": {
     "iopub.execute_input": "2022-06-27T22:44:56.361559Z",
     "iopub.status.busy": "2022-06-27T22:44:56.361229Z",
     "iopub.status.idle": "2022-06-27T22:44:56.611158Z",
     "shell.execute_reply": "2022-06-27T22:44:56.610044Z"
    },
    "pycharm": {
     "name": "#%%\n"
    }
   },
   "outputs": [
    {
     "name": "stdout",
     "output_type": "stream",
     "text": [
      "\u001b[?2004l\r",
      "--2022-06-27 18:44:56--  https://raw.githubusercontent.com/nf-core/rnaseq/master/conf/test.config\n"
     ]
    },
    {
     "name": "stdout",
     "output_type": "stream",
     "text": [
      "Resolving raw.githubusercontent.com (raw.githubusercontent.com)... 185.199.108.133, 185.199.109.133, 185.199.110.133, ...\n"
     ]
    },
    {
     "name": "stdout",
     "output_type": "stream",
     "text": [
      "Connecting to raw.githubusercontent.com (raw.githubusercontent.com)|185.199.108.133|:443... connected.\n"
     ]
    },
    {
     "name": "stdout",
     "output_type": "stream",
     "text": [
      "HTTP request sent, awaiting response... 200 OK\n"
     ]
    },
    {
     "name": "stdout",
     "output_type": "stream",
     "text": [
      "Length: 2200 (2.1K) [text/plain]\n"
     ]
    },
    {
     "name": "stdout",
     "output_type": "stream",
     "text": [
      "Saving to: ‘test.config.1’\n"
     ]
    },
    {
     "name": "stdout",
     "output_type": "stream",
     "text": [
      "\n"
     ]
    },
    {
     "name": "stdout",
     "output_type": "stream",
     "text": [
      "\r",
      "test.config.1         0%[                    ]       0  --.-KB/s               \r",
      "test.config.1       100%[===================>]   2.15K  --.-KB/s    in 0s      \n"
     ]
    },
    {
     "name": "stdout",
     "output_type": "stream",
     "text": [
      "\n"
     ]
    },
    {
     "name": "stdout",
     "output_type": "stream",
     "text": [
      "2022-06-27 18:44:56 (9.58 MB/s) - ‘test.config.1’ saved [2200/2200]\n"
     ]
    },
    {
     "name": "stdout",
     "output_type": "stream",
     "text": [
      "\n"
     ]
    },
    {
     "name": "stdout",
     "output_type": "stream",
     "text": [
      "\u001b[?2004h"
     ]
    },
    {
     "ename": "",
     "evalue": "1",
     "output_type": "error",
     "traceback": []
    }
   ],
   "source": [
    "wget https://raw.githubusercontent.com/nf-core/rnaseq/master/conf/test.config"
   ]
  },
  {
   "cell_type": "code",
   "execution_count": 7,
   "id": "df145ad7-598d-4589-a91c-f78880357cff",
   "metadata": {
    "execution": {
     "iopub.execute_input": "2022-06-27T22:44:56.615809Z",
     "iopub.status.busy": "2022-06-27T22:44:56.615492Z",
     "iopub.status.idle": "2022-06-27T22:44:56.943136Z",
     "shell.execute_reply": "2022-06-27T22:44:56.942349Z"
    },
    "pycharm": {
     "name": "#%%\n"
    }
   },
   "outputs": [
    {
     "name": "stdout",
     "output_type": "stream",
     "text": [
      "\u001b[?2004l\r",
      "--2022-06-27 18:44:56--  https://raw.githubusercontent.com/nf-core/test-datasets/rnaseq/samplesheet/v3.4/samplesheet_test.csv\n"
     ]
    },
    {
     "name": "stdout",
     "output_type": "stream",
     "text": [
      "Resolving raw.githubusercontent.com (raw.githubusercontent.com)... 185.199.108.133, 185.199.109.133, 185.199.110.133, ...\n"
     ]
    },
    {
     "name": "stdout",
     "output_type": "stream",
     "text": [
      "Connecting to raw.githubusercontent.com (raw.githubusercontent.com)|185.199.108.133|:443... connected.\n"
     ]
    },
    {
     "name": "stdout",
     "output_type": "stream",
     "text": [
      "HTTP request sent, awaiting response... 200 OK\n"
     ]
    },
    {
     "name": "stdout",
     "output_type": "stream",
     "text": [
      "Length: 1121 (1.1K) [text/plain]\n"
     ]
    },
    {
     "name": "stdout",
     "output_type": "stream",
     "text": [
      "Saving to: ‘samplesheet_test.csv.1’\n"
     ]
    },
    {
     "name": "stdout",
     "output_type": "stream",
     "text": [
      "\n"
     ]
    },
    {
     "name": "stdout",
     "output_type": "stream",
     "text": [
      "\r",
      "samplesheet_test.cs   0%[                    ]       0  --.-KB/s               \r",
      "samplesheet_test.cs 100%[===================>]   1.09K  --.-KB/s    in 0s      \n"
     ]
    },
    {
     "name": "stdout",
     "output_type": "stream",
     "text": [
      "\n"
     ]
    },
    {
     "name": "stdout",
     "output_type": "stream",
     "text": [
      "2022-06-27 18:44:56 (39.6 MB/s) - ‘samplesheet_test.csv.1’ saved [1121/1121]\n"
     ]
    },
    {
     "name": "stdout",
     "output_type": "stream",
     "text": [
      "\n"
     ]
    },
    {
     "name": "stdout",
     "output_type": "stream",
     "text": [
      "\u001b[?2004h"
     ]
    },
    {
     "name": "stdout",
     "output_type": "stream",
     "text": [
      "\u001b[?2004l\r",
      "       0\n"
     ]
    },
    {
     "name": "stdout",
     "output_type": "stream",
     "text": [
      "\u001b[?2004h"
     ]
    },
    {
     "ename": "",
     "evalue": "1",
     "output_type": "error",
     "traceback": []
    }
   ],
   "source": [
    "wget https://raw.githubusercontent.com/nf-core/test-datasets/rnaseq/samplesheet/v3.4/samplesheet_test.csv\n",
    "cat samplesheet_test.csv |wc -l"
   ]
  },
  {
   "cell_type": "markdown",
   "id": "b1d669fa-7b87-45ce-b2cd-4721b1783be7",
   "metadata": {
    "pycharm": {
     "name": "#%% md\n"
    }
   },
   "source": [
    "### Reduce the number of samples\n",
    "\n",
    "The samplesheet has 8 rows, and I don't want to actually run 8. I'll run the first sample."
   ]
  },
  {
   "cell_type": "code",
   "execution_count": 8,
   "id": "c78d280b-cd96-4dfe-934c-5c6e8de18015",
   "metadata": {
    "execution": {
     "iopub.execute_input": "2022-06-27T22:44:56.946965Z",
     "iopub.status.busy": "2022-06-27T22:44:56.946649Z",
     "iopub.status.idle": "2022-06-27T22:44:57.062224Z",
     "shell.execute_reply": "2022-06-27T22:44:57.061337Z"
    },
    "pycharm": {
     "name": "#%%\n"
    }
   },
   "outputs": [
    {
     "name": "stdout",
     "output_type": "stream",
     "text": [
      "\u001b[?2004l\r",
      "\u001b[?2004h"
     ]
    },
    {
     "ename": "",
     "evalue": "1",
     "output_type": "error",
     "traceback": []
    }
   ],
   "source": [
    "cat samplesheet_test.csv |head -n 2 > samplesheet_test_t.csv ; mv samplesheet_test_t.csv samplesheet_test.csv"
   ]
  },
  {
   "cell_type": "code",
   "execution_count": 9,
   "id": "26e7b44c-16c5-4932-bd00-9c009f94095e",
   "metadata": {
    "execution": {
     "iopub.execute_input": "2022-06-27T22:44:57.067918Z",
     "iopub.status.busy": "2022-06-27T22:44:57.067600Z",
     "iopub.status.idle": "2022-06-27T22:44:57.178774Z",
     "shell.execute_reply": "2022-06-27T22:44:57.177975Z"
    },
    "pycharm": {
     "name": "#%%\n"
    }
   },
   "outputs": [
    {
     "name": "stdout",
     "output_type": "stream",
     "text": [
      "\u001b[?2004l\r",
      "bash: module: command not found\n"
     ]
    },
    {
     "name": "stdout",
     "output_type": "stream",
     "text": [
      "\u001b[?2004h"
     ]
    },
    {
     "ename": "",
     "evalue": "1",
     "output_type": "error",
     "traceback": []
    }
   ],
   "source": [
    "module load nextflow"
   ]
  },
  {
   "cell_type": "code",
   "execution_count": 10,
   "id": "1b1b8f39-6f83-4250-9086-c6b1da5e47bc",
   "metadata": {
    "execution": {
     "iopub.execute_input": "2022-06-27T22:44:57.182775Z",
     "iopub.status.busy": "2022-06-27T22:44:57.182432Z",
     "iopub.status.idle": "2022-06-27T22:44:57.293594Z",
     "shell.execute_reply": "2022-06-27T22:44:57.292307Z"
    },
    "pycharm": {
     "name": "#%%\n"
    }
   },
   "outputs": [
    {
     "name": "stdout",
     "output_type": "stream",
     "text": [
      "\u001b[?2004l\r",
      "bash: nextflow: command not found\n"
     ]
    },
    {
     "name": "stdout",
     "output_type": "stream",
     "text": [
      "\u001b[?2004h"
     ]
    },
    {
     "ename": "",
     "evalue": "1",
     "output_type": "error",
     "traceback": []
    }
   ],
   "source": [
    "nextflow -h"
   ]
  },
  {
   "cell_type": "code",
   "execution_count": 11,
   "id": "e5c6a1d0-efa9-45f2-b966-1b5553e86f08",
   "metadata": {
    "execution": {
     "iopub.execute_input": "2022-06-27T22:44:57.298048Z",
     "iopub.status.busy": "2022-06-27T22:44:57.297721Z",
     "iopub.status.idle": "2022-06-27T22:44:57.413673Z",
     "shell.execute_reply": "2022-06-27T22:44:57.412542Z"
    },
    "pycharm": {
     "name": "#%%\n"
    }
   },
   "outputs": [
    {
     "name": "stdout",
     "output_type": "stream",
     "text": [
      "\u001b[?2004l\r",
      "bash: nextflow: command not found\n"
     ]
    },
    {
     "name": "stdout",
     "output_type": "stream",
     "text": [
      "\u001b[?2004h"
     ]
    },
    {
     "ename": "",
     "evalue": "1",
     "output_type": "error",
     "traceback": []
    }
   ],
   "source": [
    "nextflow run -h"
   ]
  },
  {
   "cell_type": "code",
   "execution_count": 12,
   "id": "b3862296-866d-4467-90a8-da9493093dd8",
   "metadata": {
    "execution": {
     "iopub.execute_input": "2022-06-27T22:44:57.417936Z",
     "iopub.status.busy": "2022-06-27T22:44:57.417610Z",
     "iopub.status.idle": "2022-06-27T22:44:58.902017Z",
     "shell.execute_reply": "2022-06-27T22:44:58.900796Z"
    },
    "pycharm": {
     "name": "#%%\n"
    }
   },
   "outputs": [
    {
     "name": "stdout",
     "output_type": "stream",
     "text": [
      "\u001b[?2004l\r",
      "\u001b[?2004h"
     ]
    },
    {
     "name": "stdout",
     "output_type": "stream",
     "text": [
      "\u001b[?2004l\r",
      "\u001b[?2004h"
     ]
    },
    {
     "name": "stdout",
     "output_type": "stream",
     "text": [
      "\u001b[?2004l\r",
      "\u001b[?2004h"
     ]
    },
    {
     "name": "stdout",
     "output_type": "stream",
     "text": [
      "\u001b[?2004l\r",
      "\u001b[?2004h"
     ]
    },
    {
     "name": "stdout",
     "output_type": "stream",
     "text": [
      "\u001b[?2004l\r",
      "\u001b[?2004h"
     ]
    },
    {
     "name": "stdout",
     "output_type": "stream",
     "text": [
      "\u001b[?2004l\r",
      "\u001b[?2004h"
     ]
    },
    {
     "name": "stdout",
     "output_type": "stream",
     "text": [
      "\u001b[?2004l\r",
      "\u001b[?2004h"
     ]
    },
    {
     "name": "stdout",
     "output_type": "stream",
     "text": [
      "\u001b[?2004l\r",
      "\u001b[?2004h"
     ]
    },
    {
     "name": "stdout",
     "output_type": "stream",
     "text": [
      "\u001b[?2004l\r",
      "\u001b[?2004h"
     ]
    },
    {
     "name": "stdout",
     "output_type": "stream",
     "text": [
      "\u001b[?2004l\r",
      "\u001b[?2004h"
     ]
    },
    {
     "name": "stdout",
     "output_type": "stream",
     "text": [
      "\u001b[?2004l\r",
      "\u001b[?2004h"
     ]
    },
    {
     "name": "stdout",
     "output_type": "stream",
     "text": [
      "\u001b[?2004l\r",
      "\u001b[?2004h"
     ]
    },
    {
     "name": "stdout",
     "output_type": "stream",
     "text": [
      "\u001b[?2004l\r",
      "\u001b[?2004h"
     ]
    },
    {
     "name": "stdout",
     "output_type": "stream",
     "text": [
      "\u001b[?2004l\r",
      "\u001b[?2004h"
     ]
    },
    {
     "name": "stdout",
     "output_type": "stream",
     "text": [
      "\u001b[?2004l\r",
      "timeout: failed to run command ‘nextflow’: No such file or directory\n"
     ]
    },
    {
     "name": "stdout",
     "output_type": "stream",
     "text": [
      "Complete example\n"
     ]
    },
    {
     "name": "stdout",
     "output_type": "stream",
     "text": [
      "\u001b[?2004h"
     ]
    },
    {
     "name": "stdout",
     "output_type": "stream",
     "text": [
      "\u001b[?2004l\r",
      "\u001b[?2004h"
     ]
    },
    {
     "name": "stdout",
     "output_type": "stream",
     "text": [
      "\u001b[?2004l\r",
      "exit\n"
     ]
    },
    {
     "name": "stdout",
     "output_type": "stream",
     "text": [
      "Restarting Bash"
     ]
    },
    {
     "ename": "",
     "evalue": "1",
     "output_type": "error",
     "traceback": []
    }
   ],
   "source": [
    "export NXF_SINGULARITY_CACHEDIR=$HOME/.singularity/\n",
    "\n",
    "timeout 120 nextflow \\\n",
    "    run \\\n",
    "    nf-core/rnaseq \\\n",
    "    -with-dag flowchart.png \\\n",
    "    -with-trace \\\n",
    "    -w /tmp/nxf-work \\\n",
    "    --input ./samplesheet_test.csv \\\n",
    "    -resume \\\n",
    "    -profile slurm \\\n",
    "    -c test.config \\\n",
    "    -c slurm-default.config \\\n",
    "    -c slurm.config \\\n",
    "    --outdir ./results || echo 'Complete example'\n",
    "\n",
    "exit 0"
   ]
  },
  {
   "cell_type": "code",
   "execution_count": 13,
   "id": "63166e50-1929-4d9d-a63b-4407d9e15892",
   "metadata": {
    "execution": {
     "iopub.execute_input": "2022-06-27T22:44:58.906334Z",
     "iopub.status.busy": "2022-06-27T22:44:58.906000Z",
     "iopub.status.idle": "2022-06-27T22:45:00.298351Z",
     "shell.execute_reply": "2022-06-27T22:45:00.297285Z"
    },
    "pycharm": {
     "name": "#%%\n"
    }
   },
   "outputs": [
    {
     "name": "stdout",
     "output_type": "stream",
     "text": [
      "\u001b[?2004l\r",
      "\u001b[?2004h"
     ]
    },
    {
     "name": "stdout",
     "output_type": "stream",
     "text": [
      "\u001b[?2004l\r",
      "\u001b[?2004h"
     ]
    },
    {
     "name": "stdout",
     "output_type": "stream",
     "text": [
      "\u001b[?2004l\r",
      "\u001b[?2004h"
     ]
    },
    {
     "name": "stdout",
     "output_type": "stream",
     "text": [
      "\u001b[?2004l\r",
      "\u001b[?2004h"
     ]
    },
    {
     "name": "stdout",
     "output_type": "stream",
     "text": [
      "\u001b[?2004l\r",
      "\u001b[?2004h"
     ]
    },
    {
     "name": "stdout",
     "output_type": "stream",
     "text": [
      "\u001b[?2004l\r",
      "\u001b[?2004h"
     ]
    },
    {
     "ename": "",
     "evalue": "1",
     "output_type": "error",
     "traceback": []
    }
   ],
   "source": [
    "# cleanup\n",
    "rm -rf test.config.*\n",
    "rm -rf samplesheet_test.csv.*\n",
    "rm -rf .nextflow\n",
    "sleep 1m\n",
    "rm -rf .nextflow"
   ]
  }
 ],
 "metadata": {
  "kernelspec": {
   "display_name": "Bash",
   "language": "bash",
   "name": "bash"
  },
  "language_info": {
   "codemirror_mode": "shell",
   "file_extension": ".sh",
   "mimetype": "text/x-sh",
   "name": "bash"
  }
 },
 "nbformat": 4,
 "nbformat_minor": 5
}
